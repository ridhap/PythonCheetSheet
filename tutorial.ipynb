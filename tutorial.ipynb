{
  "nbformat": 4,
  "nbformat_minor": 0,
  "metadata": {
    "kernelspec": {
      "display_name": "Python 3",
      "language": "python",
      "name": "python3"
    },
    "language_info": {
      "codemirror_mode": {
        "name": "ipython",
        "version": 3
      },
      "file_extension": ".py",
      "mimetype": "text/x-python",
      "name": "python",
      "nbconvert_exporter": "python",
      "pygments_lexer": "ipython3",
      "version": "3.7.2"
    },
    "colab": {
      "name": "tutorial.ipynb",
      "provenance": [],
      "include_colab_link": true
    }
  },
  "cells": [
    {
      "cell_type": "markdown",
      "metadata": {
        "id": "view-in-github",
        "colab_type": "text"
      },
      "source": [
        "<a href=\"https://colab.research.google.com/github/ridhap/PythonCheetSheet/blob/main/tutorial.ipynb\" target=\"_parent\"><img src=\"https://colab.research.google.com/assets/colab-badge.svg\" alt=\"Open In Colab\"/></a>"
      ]
    },
    {
      "cell_type": "markdown",
      "metadata": {
        "id": "ZAsQNZd7fh0P"
      },
      "source": [
        "# White Space Indentation the key for the sucessfull python programmer "
      ]
    },
    {
      "cell_type": "code",
      "metadata": {
        "id": "sQzKYII4fh0U",
        "outputId": "b9b5d44f-19c4-4389-8dbb-8cbe39bfd79a"
      },
      "source": [
        "print('fooodie pie')"
      ],
      "execution_count": null,
      "outputs": [
        {
          "output_type": "stream",
          "text": [
            "fooodie pie\n"
          ],
          "name": "stdout"
        }
      ]
    },
    {
      "cell_type": "code",
      "metadata": {
        "id": "cFRuoHLVfh0l",
        "outputId": "ca026674-90f5-40b6-f602-4effe89eb3d0"
      },
      "source": [
        "print('fooodie pie')\n",
        "    print('bakasura')"
      ],
      "execution_count": null,
      "outputs": [
        {
          "output_type": "error",
          "ename": "IndentationError",
          "evalue": "unexpected indent (<ipython-input-3-7c8eeb50c7a8>, line 2)",
          "traceback": [
            "\u001b[1;36m  File \u001b[1;32m\"<ipython-input-3-7c8eeb50c7a8>\"\u001b[1;36m, line \u001b[1;32m2\u001b[0m\n\u001b[1;33m    print('bakasura')\u001b[0m\n\u001b[1;37m    ^\u001b[0m\n\u001b[1;31mIndentationError\u001b[0m\u001b[1;31m:\u001b[0m unexpected indent\n"
          ]
        }
      ]
    },
    {
      "cell_type": "code",
      "metadata": {
        "id": "pXw99iNIfh0x",
        "outputId": "ae9ea306-28a5-4a00-d7bc-70965cfa757d"
      },
      "source": [
        "l = [1,\"a\",\"string\",1+2]\n",
        "print(l)"
      ],
      "execution_count": null,
      "outputs": [
        {
          "output_type": "stream",
          "text": [
            "[1, 'a', 'string', 3]\n"
          ],
          "name": "stdout"
        }
      ]
    },
    {
      "cell_type": "code",
      "metadata": {
        "id": "r9Kud_VVfh06",
        "outputId": "d28148ea-0791-4d0a-b4e4-8d4fe93ff162"
      },
      "source": [
        "l = [1,\"a\",\"string\",1+2]\n",
        "print(l)\n",
        "l.append(6)\n",
        "print(l)\n",
        "l.pop()\n",
        "print(l)\n",
        "print(l[1])"
      ],
      "execution_count": null,
      "outputs": [
        {
          "output_type": "stream",
          "text": [
            "[1, 'a', 'string', 3]\n",
            "[1, 'a', 'string', 3, 6]\n",
            "[1, 'a', 'string', 3]\n",
            "a\n"
          ],
          "name": "stdout"
        }
      ]
    },
    {
      "cell_type": "markdown",
      "metadata": {
        "id": "_SLUkvn2fh1E"
      },
      "source": [
        "# tuples"
      ]
    },
    {
      "cell_type": "code",
      "metadata": {
        "id": "Qx3enT_Gfh1H",
        "outputId": "752aefbe-4261-4312-fb01-dafb2b30c127"
      },
      "source": [
        "tup = (1,\"A\",\"string\",1+2,4+3)\n",
        "print(tup)"
      ],
      "execution_count": null,
      "outputs": [
        {
          "output_type": "stream",
          "text": [
            "(1, 'A', 'string', 3, 7)\n"
          ],
          "name": "stdout"
        }
      ]
    },
    {
      "cell_type": "code",
      "metadata": {
        "id": "pjCPwKOifh1O",
        "outputId": "2725c385-2c0e-40ea-9b6e-15413a36a55e"
      },
      "source": [
        "tup = (1,\"A\",\"string\",1+2,4+3)\n",
        "print(tup)\n",
        "print(tup[1])\n",
        "print(tup[0])\n",
        "print(tup[3])\n",
        "print(tup[4])"
      ],
      "execution_count": null,
      "outputs": [
        {
          "output_type": "stream",
          "text": [
            "(1, 'A', 'string', 3, 7)\n",
            "A\n",
            "1\n",
            "3\n",
            "7\n"
          ],
          "name": "stdout"
        }
      ]
    },
    {
      "cell_type": "code",
      "metadata": {
        "id": "a5lA3h2Xfh1X",
        "outputId": "49c0eb6d-1ab8-4bff-84c5-33602e979b0a"
      },
      "source": [
        "string =\"Hello world\"\n",
        "for i in string :\n",
        "    print(i)"
      ],
      "execution_count": null,
      "outputs": [
        {
          "output_type": "stream",
          "text": [
            "H\n",
            "e\n",
            "l\n",
            "l\n",
            "o\n",
            " \n",
            "w\n",
            "o\n",
            "r\n",
            "l\n",
            "d\n"
          ],
          "name": "stdout"
        }
      ]
    },
    {
      "cell_type": "code",
      "metadata": {
        "id": "RyzKFopAfh1n",
        "outputId": "afe2dfaf-f1ac-494a-d287-d95b4a63b24d"
      },
      "source": [
        "l = [1,2,3,4,5,6]\n",
        "for i in l:\n",
        "    print(i)"
      ],
      "execution_count": null,
      "outputs": [
        {
          "output_type": "stream",
          "text": [
            "1\n",
            "2\n",
            "3\n",
            "4\n",
            "5\n",
            "6\n"
          ],
          "name": "stdout"
        }
      ]
    },
    {
      "cell_type": "code",
      "metadata": {
        "id": "TxUWBjJhfh1w",
        "outputId": "7433dc99-763d-4ede-8fd4-407411c6bb83"
      },
      "source": [
        "print(\"python \",end = \"@\")\n",
        "print(\"its awesome but it only hacks but doesnt bites\")"
      ],
      "execution_count": null,
      "outputs": [
        {
          "output_type": "stream",
          "text": [
            "python @its awesome but it only hacks but doesnt bites\n"
          ],
          "name": "stdout"
        }
      ]
    },
    {
      "cell_type": "code",
      "metadata": {
        "id": "19q_nLQWfh16",
        "outputId": "2145c7e0-a50a-43bf-b102-6d0a0266835d"
      },
      "source": [
        "a = input(\"the name please from the email\")\n",
        "print(a,end ='@')\n",
        "print(\"gmail.com\")"
      ],
      "execution_count": null,
      "outputs": [
        {
          "output_type": "stream",
          "text": [
            "the name please from the emailvishwasnarayan2345\n",
            "vishwasnarayan2345@gmail.com\n"
          ],
          "name": "stdout"
        }
      ]
    },
    {
      "cell_type": "code",
      "metadata": {
        "id": "Wguf3CXOfh2E",
        "outputId": "da2d3f2d-07e9-4660-ed71-a72c9ed10335"
      },
      "source": [
        "x = 10\n",
        "print(type(x))\n",
        "y = 1.000\n",
        "print(type(y))"
      ],
      "execution_count": null,
      "outputs": [
        {
          "output_type": "stream",
          "text": [
            "<class 'int'>\n",
            "<class 'float'>\n"
          ],
          "name": "stdout"
        }
      ]
    },
    {
      "cell_type": "code",
      "metadata": {
        "id": "IXeGAbDtfh2M",
        "outputId": "e3ded093-37a9-41e7-cbd4-c4f5b2569c90"
      },
      "source": [
        "a = input(print(\"the user id\"))\n",
        "b = input(\"print(any platoform t email)\")\n",
        "print(a,b,sep = \"@\" ,end ='.com')"
      ],
      "execution_count": null,
      "outputs": [
        {
          "output_type": "stream",
          "text": [
            "the user id\n",
            "Nonevishwas\n",
            "print(any platoform t email)hathway\n",
            "vishwas@hathway.com"
          ],
          "name": "stdout"
        }
      ]
    },
    {
      "cell_type": "markdown",
      "metadata": {
        "id": "GCioSKLcfh2V"
      },
      "source": [
        "# output formatting"
      ]
    },
    {
      "cell_type": "code",
      "metadata": {
        "id": "cwxVk9LGfh2X",
        "outputId": "07846de1-0a43-424c-d57a-1685a23811a7"
      },
      "source": [
        "print(\"technoids%3d boys:out of %3d new memers\"%(3,5))"
      ],
      "execution_count": null,
      "outputs": [
        {
          "output_type": "stream",
          "text": [
            "technoids  3 boys:out of   5 new memers\n"
          ],
          "name": "stdout"
        }
      ]
    },
    {
      "cell_type": "code",
      "metadata": {
        "id": "Uiti7WX9fh2e",
        "outputId": "d918749c-8a18-4291-cdf1-3c03f1c7dcee"
      },
      "source": [
        "cv = 1.0\n",
        "cd = 1\n",
        "p = operator.iadd(cv,cd)\n",
        "print(p)"
      ],
      "execution_count": null,
      "outputs": [
        {
          "output_type": "error",
          "ename": "NameError",
          "evalue": "name 'operator' is not defined",
          "traceback": [
            "\u001b[1;31m---------------------------------------------------------------------------\u001b[0m",
            "\u001b[1;31mNameError\u001b[0m                                 Traceback (most recent call last)",
            "\u001b[1;32m<ipython-input-12-dd8c683d46c1>\u001b[0m in \u001b[0;36m<module>\u001b[1;34m\u001b[0m\n\u001b[0;32m      1\u001b[0m \u001b[0mcv\u001b[0m \u001b[1;33m=\u001b[0m \u001b[1;36m1.0\u001b[0m\u001b[1;33m\u001b[0m\u001b[1;33m\u001b[0m\u001b[0m\n\u001b[0;32m      2\u001b[0m \u001b[0mcd\u001b[0m \u001b[1;33m=\u001b[0m \u001b[1;36m1\u001b[0m\u001b[1;33m\u001b[0m\u001b[1;33m\u001b[0m\u001b[0m\n\u001b[1;32m----> 3\u001b[1;33m \u001b[0mp\u001b[0m \u001b[1;33m=\u001b[0m \u001b[0moperator\u001b[0m\u001b[1;33m.\u001b[0m\u001b[0miadd\u001b[0m\u001b[1;33m(\u001b[0m\u001b[0mcv\u001b[0m\u001b[1;33m,\u001b[0m\u001b[0mcd\u001b[0m\u001b[1;33m)\u001b[0m\u001b[1;33m\u001b[0m\u001b[1;33m\u001b[0m\u001b[0m\n\u001b[0m\u001b[0;32m      4\u001b[0m \u001b[0mprint\u001b[0m\u001b[1;33m(\u001b[0m\u001b[0mp\u001b[0m\u001b[1;33m)\u001b[0m\u001b[1;33m\u001b[0m\u001b[1;33m\u001b[0m\u001b[0m\n",
            "\u001b[1;31mNameError\u001b[0m: name 'operator' is not defined"
          ]
        }
      ]
    },
    {
      "cell_type": "code",
      "metadata": {
        "id": "VztNcvOhfh2l",
        "outputId": "c0c5b5b5-b681-48d5-8e75-6b91e3e5ba4b"
      },
      "source": [
        "import operator\n",
        "import math\n",
        "cv = 11\n",
        "cd = 1\n",
        "p = operator.iadd(cv,cd)\n",
        "q = operator.add(cv,cd)\n",
        "r = operator.mul(cv,cd)\n",
        "s = operator.sub(cv,cd)\n",
        "#t = operator.div(cv,cd)\n",
        "u = operator.truediv(cv,cd)\n",
        "v = operator.pow(cv,cd)\n",
        "w = operator.lt(cv,cd)\n",
        "x = operator.le(cv,cd)\n",
        "z = operator.eq(cv,cd)\n",
        "aa = operator.gt(cv,cd)\n",
        "bb = operator.ge(cv,cd)\n",
        "cc = operator.ne(cv,cd)\n",
        "mod = operator.mod(cv,cd) \n",
        "imul = operator.imul(cv,cd)\n",
        "ipow = operator.ipow(cv,cd)\n",
        "i_xor = operator.ixor(cv,cd)\n",
        "print(\"i_xor:\",i_xor)\n",
        "i_and = operator.iand(cv,cd)\n",
        "print(\"i_and:\",i_and)\n",
        "i_or = operator.ior(cv,cd)\n",
        "print(\"i_or:\",i_or)\n",
        "print(\"the i add:\",q)\n",
        "i_lshft = operator.ilshift(cv,cd)\n",
        "i_rshift = operator.irshift(cv,cd)\n",
        "print(\"left shift:\",i_lshft)\n",
        "print(\"i rightshift:\",i_rshift)\n",
        "print(\"the add func:\",p)\n",
        "print(\"the mul func:\",r)\n",
        "print(\"the sub\",s)\n",
        "#print(t)\n",
        "print(\"the true div func:\",u)\n",
        "print(\"the func pow:\",v)\n",
        "print(\"the func lt:\",w)\n",
        "print(\"the func le:\",x)\n",
        "#print(y)\n",
        "print(\"the func equl:\",z)\n",
        "print(\"the func gt:\",aa)\n",
        "print(\"the func ge:\",bb)\n",
        "print(\"the func ne:\",cc)\n",
        "print(\"moudlus:\",mod)\n",
        "aaa = math.trunc(cv)\n",
        "print(\"math trunc\",aaa)\n",
        "print(\"i mul:\",imul)\n",
        "print(\"i pow:\",ipow)\n",
        "bbb = math.floor(cd)\n",
        "print(\"math.floor:\",bbb)\n",
        "ccc = math.ceil(cd)\n",
        "print(\"math.ceil:\",ccc)"
      ],
      "execution_count": null,
      "outputs": [
        {
          "output_type": "stream",
          "text": [
            "i_xor: 10\n",
            "i_and: 1\n",
            "i_or: 11\n",
            "the i add: 12\n",
            "left shift: 22\n",
            "i rightshift: 5\n",
            "the add func: 12\n",
            "the mul func: 11\n",
            "the sub 10\n",
            "the true div func: 11.0\n",
            "the func pow: 11\n",
            "the func lt: False\n",
            "the func le: False\n",
            "the func equl: False\n",
            "the func gt: True\n",
            "the func ge: True\n",
            "the func ne: True\n",
            "moudlus: 0\n",
            "math trunc 11\n",
            "i mul: 11\n",
            "i pow: 11\n",
            "math.floor: 1\n",
            "math.ceil: 1\n"
          ],
          "name": "stdout"
        }
      ]
    },
    {
      "cell_type": "code",
      "metadata": {
        "id": "Sh3emN9bfh2r",
        "outputId": "43948566-fc52-4338-a5a4-28fcd94d0d9d"
      },
      "source": [
        "import itertools\n",
        "import operator\n",
        "li1 = [1,4,5,67]\n",
        "li11= [(1,2,30),(4,5,6),(1,2,3,4,5),(7,8,9)]\n",
        "li2 = [12,52,62,72]\n",
        "li3 = [11,51,61,71]\n",
        "li4 = [li1,li2,li3]\n",
        "print(\"the itertools.accumulate fnc :\")\n",
        "print(list(itertools.accumulate(li1)))\n",
        "print(\"the product from the operator.mul\")\n",
        "print(list(itertools.accumulate(li1,operator.mul)))\n",
        "print(\"All the values in mentioned above will be chained\")\n",
        "print(list(itertools.chain(li1,li2,li3)))\n",
        "print(\"All the vales above will be chained\")\n",
        "print(list(itertools.chain.from_iterable(li4)))\n",
        "print (\"The compressed values in string are : \",end=\"\") \n",
        "print (list(itertools.compress('vishwasnarayana12051968',[1,0,0,0,0,1,0,0,1,0,0,0,0]))) \n",
        "print(\"condition retrn false\")\n",
        "print(list(itertools.filterfalse(lambda x: x%2 == 0 ,li1)))\n",
        "print(\"the islice finction\")\n",
        "print(list(itertools.islice(li1,1,2,3)))\n",
        "print(list(itertools.starmap(min,li11)))\n",
        "print(list(itertools.starmap(max,li11)))"
      ],
      "execution_count": null,
      "outputs": [
        {
          "output_type": "stream",
          "text": [
            "the itertools.accumulate fnc :\n",
            "[1, 5, 10, 77]\n",
            "the product from the operator.mul\n",
            "[1, 4, 20, 1340]\n",
            "All the values in mentioned above will be chained\n",
            "[1, 4, 5, 67, 12, 52, 62, 72, 11, 51, 61, 71]\n",
            "All the vales above will be chained\n",
            "[1, 4, 5, 67, 12, 52, 62, 72, 11, 51, 61, 71]\n",
            "The compressed values in string are : ['v', 'a', 'a']\n",
            "condition retrn false\n",
            "[1, 5, 67]\n",
            "the islice finction\n",
            "[4]\n",
            "[1, 4, 1, 7]\n",
            "[30, 6, 5, 9]\n"
          ],
          "name": "stdout"
        }
      ]
    },
    {
      "cell_type": "code",
      "metadata": {
        "id": "gRF0hsMWfh20",
        "outputId": "25c3af3d-cbdb-4775-89f6-76491ab6fa70"
      },
      "source": [
        "a = input(\"the name please from the email\")\n",
        "print(a,sep ='@',end = \"gmail.com\")"
      ],
      "execution_count": null,
      "outputs": [
        {
          "output_type": "stream",
          "text": [
            "the name please from the emailvishwasnarayan2345\n",
            "vishwasnarayan2345gmail.comgmail.com\n"
          ],
          "name": "stdout"
        }
      ]
    },
    {
      "cell_type": "code",
      "metadata": {
        "id": "zgOe3SPBfh26",
        "outputId": "56964982-e2ed-4ef6-cbac-3790c03a8bfd"
      },
      "source": [
        "list = []\n",
        "print(\"Initializing the list\")\n",
        "print(list)\n",
        "LIST1 = [\"IN THE VERGE OF LEARNIGN PYTHON\"]\n",
        "print(LIST1)"
      ],
      "execution_count": null,
      "outputs": [
        {
          "output_type": "stream",
          "text": [
            "Initializing the list\n",
            "[]\n",
            "['IN THE VERGE OF LEARNIGN PYTHON']\n"
          ],
          "name": "stdout"
        }
      ]
    },
    {
      "cell_type": "code",
      "metadata": {
        "id": "J-iO8RW3fh3B",
        "outputId": "9d5711df-3a67-4bf4-a85e-ed0cc586d8b5"
      },
      "source": [
        "list = []\n",
        "print(\"Initializing the list\")\n",
        "print(list)\n",
        "LIST1 = [\"IN THE VERGE OF LEARNIGN PYTHON\"]\n",
        "print(LIST1)\n",
        "LIST2 =['jacked up','team','technoids']\n",
        "print(LIST2)"
      ],
      "execution_count": null,
      "outputs": [
        {
          "output_type": "stream",
          "text": [
            "Initializing the list\n",
            "[]\n",
            "['IN THE VERGE OF LEARNIGN PYTHON']\n",
            "['jacked up', 'team', 'technoids']\n"
          ],
          "name": "stdout"
        }
      ]
    },
    {
      "cell_type": "code",
      "metadata": {
        "id": "tX6FHB8Bfh3G",
        "outputId": "433f0ed5-f7e8-4e41-e40f-64db16d4eba0"
      },
      "source": [
        "list1 = []\n",
        "list2 =[]\n",
        "print(id(list1))\n",
        "print(id(list2))"
      ],
      "execution_count": null,
      "outputs": [
        {
          "output_type": "stream",
          "text": [
            "1908889926600\n",
            "1908890257992\n"
          ],
          "name": "stdout"
        }
      ]
    },
    {
      "cell_type": "markdown",
      "metadata": {
        "id": "43xUeAf8fh3b"
      },
      "source": [
        "# slicing python codes"
      ]
    },
    {
      "cell_type": "markdown",
      "metadata": {
        "id": "aaIIqGTxfh3K"
      },
      "source": [
        "# append who cares only the program cares"
      ]
    },
    {
      "cell_type": "code",
      "metadata": {
        "id": "_Q-dVX9sfh3N",
        "outputId": "37e97d32-3db3-42c3-e263-d95059cb2429"
      },
      "source": [
        "LIST = []\n",
        "LIST.append(1)\n",
        "LIST.append(2)\n",
        "LIST.append(3)\n",
        "print(LIST)"
      ],
      "execution_count": null,
      "outputs": [
        {
          "output_type": "stream",
          "text": [
            "[1, 2, 3]\n"
          ],
          "name": "stdout"
        }
      ]
    },
    {
      "cell_type": "code",
      "metadata": {
        "id": "ZBgEmhBxfh3S",
        "outputId": "2d9a3628-52cf-4d0d-a7b2-0acc9e0d79e5"
      },
      "source": [
        "list = []\n",
        "for i in range(1,4):\n",
        "    list.append(i)\n",
        "    print(i)\n",
        "print(list)\n",
        "list.append(90)\n",
        "print(list)"
      ],
      "execution_count": null,
      "outputs": [
        {
          "output_type": "stream",
          "text": [
            "1\n",
            "2\n",
            "3\n",
            "[1, 2, 3]\n",
            "[1, 2, 3, 90]\n"
          ],
          "name": "stdout"
        }
      ]
    },
    {
      "cell_type": "code",
      "metadata": {
        "id": "rdm7jIJ9fh3X",
        "outputId": "57d2e408-8328-402e-97e9-9232b0b15c60"
      },
      "source": [
        "list = []\n",
        "for i in range(1,4):\n",
        "    list.append(i)\n",
        "    print(i)\n",
        "print(list)\n",
        "list.append(90)\n",
        "print(list)\n",
        "list.extend([8,\"total technoids\",5,\"new\",\"learning\",\"geeks\"])\n",
        "print(list)"
      ],
      "execution_count": null,
      "outputs": [
        {
          "output_type": "stream",
          "text": [
            "1\n",
            "2\n",
            "3\n",
            "[1, 2, 3]\n",
            "[1, 2, 3, 90]\n",
            "[1, 2, 3, 90, 8, 'total technoids', 5, 'new', 'learning', 'geeks']\n"
          ],
          "name": "stdout"
        }
      ]
    },
    {
      "cell_type": "code",
      "metadata": {
        "id": "o_T_b0XIfh3c",
        "outputId": "efd064e1-ba4e-4d30-ce88-807c0b4a3c4d"
      },
      "source": [
        "list = [l,4,5,6,7]\n",
        "print(list)\n",
        "sliced_list = list[:-4]\n",
        "print(list)\n",
        "print(sliced_list)\n",
        "listrev = list.reverse()\n",
        "print(listrev)"
      ],
      "execution_count": null,
      "outputs": [
        {
          "output_type": "stream",
          "text": [
            "[[1, 2, 3, 4, 5, 6], 4, 5, 6, 7]\n",
            "[[1, 2, 3, 4, 5, 6], 4, 5, 6, 7]\n",
            "[[1, 2, 3, 4, 5, 6]]\n",
            "None\n"
          ],
          "name": "stdout"
        }
      ]
    },
    {
      "cell_type": "markdown",
      "metadata": {
        "id": "t1PQYsAdfh3f"
      },
      "source": [
        "# ARITHAMTIC OPERATION"
      ]
    },
    {
      "cell_type": "code",
      "metadata": {
        "scrolled": true,
        "id": "pOWsLfFrfh3g",
        "outputId": "5db23524-2af7-45a0-cdff-4ef2558528aa"
      },
      "source": [
        "#ADDITION\n",
        "2+2"
      ],
      "execution_count": null,
      "outputs": [
        {
          "output_type": "execute_result",
          "data": {
            "text/plain": [
              "4"
            ]
          },
          "metadata": {
            "tags": []
          },
          "execution_count": 4
        }
      ]
    },
    {
      "cell_type": "code",
      "metadata": {
        "id": "Kd_im9Q1fh3k",
        "outputId": "4bb22c8c-a0b9-455a-bcf1-ec7e0f1e3279"
      },
      "source": [
        "#MULTIPLICATION\n",
        "2*2"
      ],
      "execution_count": null,
      "outputs": [
        {
          "output_type": "execute_result",
          "data": {
            "text/plain": [
              "4"
            ]
          },
          "metadata": {
            "tags": []
          },
          "execution_count": 5
        }
      ]
    },
    {
      "cell_type": "code",
      "metadata": {
        "id": "6OIiXWsyfh3o",
        "outputId": "68adf610-0432-4624-f323-e16adf7a831f"
      },
      "source": [
        "#DIVISION\n",
        "2/2"
      ],
      "execution_count": null,
      "outputs": [
        {
          "output_type": "execute_result",
          "data": {
            "text/plain": [
              "1.0"
            ]
          },
          "metadata": {
            "tags": []
          },
          "execution_count": 6
        }
      ]
    },
    {
      "cell_type": "code",
      "metadata": {
        "id": "C8JmE3fafh3s",
        "outputId": "e4c62a6d-2bff-44fa-f1fa-74ca1b57ed91"
      },
      "source": [
        "#FLOOR DIVISION\n",
        "2//2"
      ],
      "execution_count": null,
      "outputs": [
        {
          "output_type": "execute_result",
          "data": {
            "text/plain": [
              "1"
            ]
          },
          "metadata": {
            "tags": []
          },
          "execution_count": 7
        }
      ]
    },
    {
      "cell_type": "code",
      "metadata": {
        "id": "oB5i7YhBfh3v",
        "outputId": "766b4a23-2485-4547-a2f7-d8f558755f6a"
      },
      "source": [
        "x = s%s\n",
        "y = 2.2%1\n",
        "print(x,y)"
      ],
      "execution_count": null,
      "outputs": [
        {
          "output_type": "stream",
          "text": [
            "0 0.20000000000000018\n"
          ],
          "name": "stdout"
        }
      ]
    },
    {
      "cell_type": "code",
      "metadata": {
        "id": "wWZTcG79fh3y",
        "outputId": "2c19b5d6-58d9-4263-ba41-9c7de9899bbf"
      },
      "source": [
        "x = \\\n",
        "1+2 \\\n",
        "+5+6\\\n",
        "+10\n",
        "print(x)"
      ],
      "execution_count": null,
      "outputs": [
        {
          "output_type": "stream",
          "text": [
            "24\n"
          ],
          "name": "stdout"
        }
      ]
    },
    {
      "cell_type": "markdown",
      "metadata": {
        "id": "lLZot75vfh31"
      },
      "source": [
        "notice that the indentation matters"
      ]
    },
    {
      "cell_type": "code",
      "metadata": {
        "id": "_B4R1mylfh32",
        "outputId": "a5e40b85-9b97-443d-a30d-31065d8a86b9"
      },
      "source": [
        "x = \\1+5++10\n",
        "print(x)#look just by defining the code we can run the system"
      ],
      "execution_count": null,
      "outputs": [
        {
          "output_type": "error",
          "ename": "SyntaxError",
          "evalue": "unexpected character after line continuation character (<ipython-input-11-f03ca9dc15cc>, line 1)",
          "traceback": [
            "\u001b[1;36m  File \u001b[1;32m\"<ipython-input-11-f03ca9dc15cc>\"\u001b[1;36m, line \u001b[1;32m1\u001b[0m\n\u001b[1;33m    x = \\1+5++10\u001b[0m\n\u001b[1;37m                ^\u001b[0m\n\u001b[1;31mSyntaxError\u001b[0m\u001b[1;31m:\u001b[0m unexpected character after line continuation character\n"
          ]
        }
      ]
    },
    {
      "cell_type": "code",
      "metadata": {
        "id": "5g9WWUpkfh35",
        "outputId": "c81c23e3-b7e9-493d-f68c-a66baa3babc4"
      },
      "source": [
        "x = 10\n",
        "flag =(x == 10) and (x<12) #this will help you debugging\n",
        "print(flag)"
      ],
      "execution_count": null,
      "outputs": [
        {
          "output_type": "stream",
          "text": [
            "True\n"
          ],
          "name": "stdout"
        }
      ]
    },
    {
      "cell_type": "markdown",
      "metadata": {
        "id": "RLHS-IOMfh38"
      },
      "source": [
        "# The all of the Fame code for the indentation code and the logical application"
      ]
    },
    {
      "cell_type": "code",
      "metadata": {
        "id": "JfL5M6sJfh39",
        "outputId": "38a4578a-65dd-4fe0-d5a0-d7641af16abb"
      },
      "source": [
        "a =1;\n",
        "b =2\n",
        "x = (a and b)\n",
        "print(x)"
      ],
      "execution_count": null,
      "outputs": [
        {
          "output_type": "stream",
          "text": [
            "2\n"
          ],
          "name": "stdout"
        }
      ]
    },
    {
      "cell_type": "code",
      "metadata": {
        "id": "P1UnMAmTfh4A"
      },
      "source": [
        "a =1;\n",
        "b =2\n",
        "x = (a and b)\n",
        "#print(x)"
      ],
      "execution_count": null,
      "outputs": []
    },
    {
      "cell_type": "code",
      "metadata": {
        "id": "d_b2XsjRfh4C",
        "outputId": "4885d546-9991-45a2-e85c-355113395951"
      },
      "source": [
        "a =10\n",
        "b =10\n",
        "y = (a or b)\n",
        "print(y)"
      ],
      "execution_count": null,
      "outputs": [
        {
          "output_type": "stream",
          "text": [
            "10\n"
          ],
          "name": "stdout"
        }
      ]
    },
    {
      "cell_type": "markdown",
      "metadata": {
        "id": "OcJhKddwfh4E"
      },
      "source": [
        "# the math library module being defined"
      ]
    },
    {
      "cell_type": "code",
      "metadata": {
        "id": "FvmLcz_lfh4F",
        "outputId": "132f4a1f-0305-442a-e016-2e1ad8837ff0"
      },
      "source": [
        "import math\n",
        "math.sqrt(4)\n",
        "\n",
        "sum([1,.1,.3,.4,.6])"
      ],
      "execution_count": null,
      "outputs": [
        {
          "output_type": "execute_result",
          "data": {
            "text/plain": [
              "2.4000000000000004"
            ]
          },
          "metadata": {
            "tags": []
          },
          "execution_count": 16
        }
      ]
    },
    {
      "cell_type": "code",
      "metadata": {
        "id": "DP_TgIdZfh4J",
        "outputId": "992a94fb-3837-4ee8-9b66-434aa55b3c8c"
      },
      "source": [
        "sum([1,.1,.3,.4,.6])"
      ],
      "execution_count": null,
      "outputs": [
        {
          "output_type": "execute_result",
          "data": {
            "text/plain": [
              "2.4000000000000004"
            ]
          },
          "metadata": {
            "tags": []
          },
          "execution_count": 17
        }
      ]
    },
    {
      "cell_type": "code",
      "metadata": {
        "id": "mjPu4UhZfh4L",
        "outputId": "2a9f3a75-7294-4015-95f4-a61d7838609d"
      },
      "source": [
        "#return the accurate floating point integer\n",
        "math.fsum([.1, .1, .1, .1, .1, .1, .1, .1, .1, .1])\n",
        "math.frexp([.2,.2,.2,.2,2.2,.2,.2,.2,.2,.2])"
      ],
      "execution_count": null,
      "outputs": [
        {
          "output_type": "error",
          "ename": "TypeError",
          "evalue": "must be real number, not list",
          "traceback": [
            "\u001b[1;31m---------------------------------------------------------------------------\u001b[0m",
            "\u001b[1;31mTypeError\u001b[0m                                 Traceback (most recent call last)",
            "\u001b[1;32m<ipython-input-18-89ec6ba3e83c>\u001b[0m in \u001b[0;36m<module>\u001b[1;34m\u001b[0m\n\u001b[0;32m      1\u001b[0m \u001b[1;31m#return the accurate floating point integer\u001b[0m\u001b[1;33m\u001b[0m\u001b[1;33m\u001b[0m\u001b[1;33m\u001b[0m\u001b[0m\n\u001b[0;32m      2\u001b[0m \u001b[0mmath\u001b[0m\u001b[1;33m.\u001b[0m\u001b[0mfsum\u001b[0m\u001b[1;33m(\u001b[0m\u001b[1;33m[\u001b[0m\u001b[1;36m.1\u001b[0m\u001b[1;33m,\u001b[0m \u001b[1;36m.1\u001b[0m\u001b[1;33m,\u001b[0m \u001b[1;36m.1\u001b[0m\u001b[1;33m,\u001b[0m \u001b[1;36m.1\u001b[0m\u001b[1;33m,\u001b[0m \u001b[1;36m.1\u001b[0m\u001b[1;33m,\u001b[0m \u001b[1;36m.1\u001b[0m\u001b[1;33m,\u001b[0m \u001b[1;36m.1\u001b[0m\u001b[1;33m,\u001b[0m \u001b[1;36m.1\u001b[0m\u001b[1;33m,\u001b[0m \u001b[1;36m.1\u001b[0m\u001b[1;33m,\u001b[0m \u001b[1;36m.1\u001b[0m\u001b[1;33m]\u001b[0m\u001b[1;33m)\u001b[0m\u001b[1;33m\u001b[0m\u001b[1;33m\u001b[0m\u001b[0m\n\u001b[1;32m----> 3\u001b[1;33m \u001b[0mmath\u001b[0m\u001b[1;33m.\u001b[0m\u001b[0mfrexp\u001b[0m\u001b[1;33m(\u001b[0m\u001b[1;33m[\u001b[0m\u001b[1;36m.2\u001b[0m\u001b[1;33m,\u001b[0m\u001b[1;36m.2\u001b[0m\u001b[1;33m,\u001b[0m\u001b[1;36m.2\u001b[0m\u001b[1;33m,\u001b[0m\u001b[1;36m.2\u001b[0m\u001b[1;33m,\u001b[0m\u001b[1;36m2.2\u001b[0m\u001b[1;33m,\u001b[0m\u001b[1;36m.2\u001b[0m\u001b[1;33m,\u001b[0m\u001b[1;36m.2\u001b[0m\u001b[1;33m,\u001b[0m\u001b[1;36m.2\u001b[0m\u001b[1;33m,\u001b[0m\u001b[1;36m.2\u001b[0m\u001b[1;33m,\u001b[0m\u001b[1;36m.2\u001b[0m\u001b[1;33m]\u001b[0m\u001b[1;33m)\u001b[0m\u001b[1;33m\u001b[0m\u001b[1;33m\u001b[0m\u001b[0m\n\u001b[0m",
            "\u001b[1;31mTypeError\u001b[0m: must be real number, not list"
          ]
        }
      ]
    },
    {
      "cell_type": "code",
      "metadata": {
        "id": "Qy3yLE-dfh4P",
        "outputId": "1916c784-5e4d-49e2-a881-b43e1ff35efa"
      },
      "source": [
        "from math import exp\n",
        "exp(1e-5)"
      ],
      "execution_count": null,
      "outputs": [
        {
          "output_type": "execute_result",
          "data": {
            "text/plain": [
              "1.00001000005"
            ]
          },
          "metadata": {
            "tags": []
          },
          "execution_count": 19
        }
      ]
    },
    {
      "cell_type": "markdown",
      "metadata": {
        "id": "-Vnhvr5Afh4T"
      },
      "source": [
        "# the print function code "
      ]
    },
    {
      "cell_type": "code",
      "metadata": {
        "id": "1UPIfkMefh4T",
        "outputId": "d702a15c-1cc0-42dc-f7f1-bb78386138c3"
      },
      "source": [
        "#python program to get th data in the real time lets have some handson\n",
        "print (False == 0)\n",
        "print (True == 1)\n",
        "\n",
        "print (True + True + True)\n",
        "print (False + False + False)\n",
        "print (False + True + False + True + False)\n",
        "print( False == 1)\n",
        "print ( True  == 0)\n",
        "print(True)\n",
        "print(True + True + True)\n",
        "print( False + False + False)"
      ],
      "execution_count": null,
      "outputs": [
        {
          "output_type": "stream",
          "text": [
            "True\n",
            "True\n",
            "3\n",
            "0\n",
            "2\n",
            "False\n",
            "False\n",
            "True\n",
            "3\n",
            "0\n"
          ],
          "name": "stdout"
        }
      ]
    },
    {
      "cell_type": "code",
      "metadata": {
        "id": "EJrs7Ixgfh4W",
        "outputId": "0788eee8-7093-4cd2-aa06-b05135979810"
      },
      "source": [
        "a =10 ;b =19 ; c =a/3 ; d =b//10\n",
        "print(a);print(b);print(c) #the outpur cant be definedd"
      ],
      "execution_count": null,
      "outputs": [
        {
          "output_type": "stream",
          "text": [
            "10\n",
            "19\n",
            "3.3333333333333335\n"
          ],
          "name": "stdout"
        }
      ]
    },
    {
      "cell_type": "markdown",
      "metadata": {
        "id": "iVC0Shd-fh4c"
      },
      "source": [
        "# WE STILL HAVE TO LEARN ON THE ARRAY"
      ]
    },
    {
      "cell_type": "code",
      "metadata": {
        "id": "3tDFryWofh4d",
        "colab": {
          "base_uri": "https://localhost:8080/"
        },
        "outputId": "0fe8f3a1-e4d9-4758-a5fa-4f771a109e90"
      },
      "source": [
        "x =[1,2,3]\n",
        "y =2.0\n",
        "a = y in x #the in function is being defined in here\n",
        "print(a)"
      ],
      "execution_count": null,
      "outputs": [
        {
          "output_type": "stream",
          "text": [
            "True\n"
          ],
          "name": "stdout"
        }
      ]
    },
    {
      "cell_type": "code",
      "metadata": {
        "id": "k2bU1vZLfh4f",
        "outputId": "ae4a7307-8b7f-48bd-b91b-d04f1384853d"
      },
      "source": [
        "A = [\n",
        "    [1,2,3],\n",
        "    [4,5,6],\n",
        "    [7,8,9]\n",
        "]\n",
        "print(A)"
      ],
      "execution_count": null,
      "outputs": [
        {
          "output_type": "stream",
          "text": [
            "[[1, 2, 3], [4, 5, 6], [7, 8, 9]]\n"
          ],
          "name": "stdout"
        }
      ]
    },
    {
      "cell_type": "code",
      "metadata": {
        "id": "Wg7ZRUfCfh4h",
        "outputId": "abe7ad9b-64ce-4688-a15b-bbc916cb8da2"
      },
      "source": [
        "A = [\n",
        "    [1,2,3],\n",
        "    [4,5,6],\n",
        "    [7,8,9]\n",
        "]\n",
        "print(a)"
      ],
      "execution_count": null,
      "outputs": [
        {
          "output_type": "stream",
          "text": [
            "True\n"
          ],
          "name": "stdout"
        }
      ]
    },
    {
      "cell_type": "markdown",
      "metadata": {
        "id": "TDZgeSJkfh4m"
      },
      "source": [
        "any in the print "
      ]
    },
    {
      "cell_type": "code",
      "metadata": {
        "id": "G2Uhy1F8fh4m",
        "colab": {
          "base_uri": "https://localhost:8080/"
        },
        "outputId": "27bb1c89-9678-4593-97e8-6f6c2c52ffba"
      },
      "source": [
        "print(any([False,True,False,False]))\n",
        "print(any([False,True,True,False]))"
      ],
      "execution_count": null,
      "outputs": [
        {
          "output_type": "stream",
          "text": [
            "True\n",
            "True\n"
          ],
          "name": "stdout"
        }
      ]
    },
    {
      "cell_type": "markdown",
      "metadata": {
        "id": "-Owj4cB0fh4q"
      },
      "source": [
        "all in the print"
      ]
    },
    {
      "cell_type": "code",
      "metadata": {
        "id": "ObltgsMEfh4r",
        "outputId": "0f2e2e3e-5d6a-43a2-aab6-549195ba7bda"
      },
      "source": [
        "print(all([True,True,True,True]))\n",
        "print(all([False,False,False,True]))\n",
        "print(all([False,True,True,False]))\n"
      ],
      "execution_count": null,
      "outputs": [
        {
          "output_type": "stream",
          "text": [
            "True\n",
            "False\n",
            "False\n"
          ],
          "name": "stdout"
        }
      ]
    },
    {
      "cell_type": "markdown",
      "metadata": {
        "id": "cgHaGGPgfh4t"
      },
      "source": [
        "# The ouput that all the console will be giving is for the analysis of the application of the code so as to have the sessions going on."
      ]
    },
    {
      "cell_type": "code",
      "metadata": {
        "id": "sP2KfAGCfh4u",
        "outputId": "7e6252eb-c5cd-44e1-8cc3-cda7c0a935f3"
      },
      "source": [
        "#her we will define the value of the functin after the variable definition\n",
        "print(\"value of the using the nonlinear combined aspects:\" ,end =\"\")\n",
        "def outer():\n",
        "    a =5\n",
        "    def inner():\n",
        "        nonlocal a #nonlocal will be the keyword its appllicable in the kernel as the task goes on\n",
        "        a =10\n",
        "    inner()\n",
        "    print(a)\n",
        "outer()#here we intend to fake the value"
      ],
      "execution_count": null,
      "outputs": [
        {
          "output_type": "stream",
          "text": [
            "value of the using the nonlinear combined aspects:10\n"
          ],
          "name": "stdout"
        }
      ]
    },
    {
      "cell_type": "code",
      "metadata": {
        "id": "0TOoZfrWfh4v",
        "outputId": "c8ba774e-c119-405d-ebec-ecb416504226"
      },
      "source": [
        "print (None == 0) #the none is being defined\n",
        "x = None #the data to be handled is taken care here\n",
        "y = None\n",
        "print (x == y)\n",
        "print (True  or False)\n",
        "print(False and True)\n",
        "print(not False)\n",
        "print(not(True or False))"
      ],
      "execution_count": null,
      "outputs": [
        {
          "output_type": "stream",
          "text": [
            "False\n",
            "True\n",
            "True\n",
            "False\n",
            "True\n",
            "False\n"
          ],
          "name": "stdout"
        }
      ]
    },
    {
      "cell_type": "markdown",
      "metadata": {
        "id": "ewzVw9K6fh4y"
      },
      "source": [
        "# see the magic of the del function"
      ]
    },
    {
      "cell_type": "code",
      "metadata": {
        "id": "VcLWlAcwfh4z",
        "colab": {
          "base_uri": "https://localhost:8080/",
          "height": 262
        },
        "outputId": "dfae68c1-6794-4812-9903-75466ce03232"
      },
      "source": [
        "#the deletion operator will also help you in the Software Debugging part\n",
        "a = [1,2,3,4,5,6,7,8,9,10]\n",
        "print(\"let me love!dont you give up\")\n",
        "del a[2]\n",
        "print(a)\n",
        "del a[1]\n",
        "print(a)\n",
        "del a[9]\n",
        "print(a)\n"
      ],
      "execution_count": null,
      "outputs": [
        {
          "output_type": "stream",
          "text": [
            "let me love!dont you give up\n",
            "[1, 2, 4, 5, 6, 7, 8, 9, 10]\n",
            "[1, 4, 5, 6, 7, 8, 9, 10]\n"
          ],
          "name": "stdout"
        },
        {
          "output_type": "error",
          "ename": "IndexError",
          "evalue": "ignored",
          "traceback": [
            "\u001b[0;31m---------------------------------------------------------------------------\u001b[0m",
            "\u001b[0;31mIndexError\u001b[0m                                Traceback (most recent call last)",
            "\u001b[0;32m<ipython-input-5-b2869dad82d5>\u001b[0m in \u001b[0;36m<module>\u001b[0;34m()\u001b[0m\n\u001b[1;32m      5\u001b[0m \u001b[0;32mdel\u001b[0m \u001b[0ma\u001b[0m\u001b[0;34m[\u001b[0m\u001b[0;36m1\u001b[0m\u001b[0;34m]\u001b[0m\u001b[0;34m\u001b[0m\u001b[0;34m\u001b[0m\u001b[0m\n\u001b[1;32m      6\u001b[0m \u001b[0mprint\u001b[0m\u001b[0;34m(\u001b[0m\u001b[0ma\u001b[0m\u001b[0;34m)\u001b[0m\u001b[0;34m\u001b[0m\u001b[0;34m\u001b[0m\u001b[0m\n\u001b[0;32m----> 7\u001b[0;31m \u001b[0;32mdel\u001b[0m \u001b[0ma\u001b[0m\u001b[0;34m[\u001b[0m\u001b[0;36m9\u001b[0m\u001b[0;34m]\u001b[0m\u001b[0;34m\u001b[0m\u001b[0;34m\u001b[0m\u001b[0m\n\u001b[0m\u001b[1;32m      8\u001b[0m \u001b[0mprint\u001b[0m\u001b[0;34m(\u001b[0m\u001b[0ma\u001b[0m\u001b[0;34m)\u001b[0m\u001b[0;34m\u001b[0m\u001b[0;34m\u001b[0m\u001b[0m\n",
            "\u001b[0;31mIndexError\u001b[0m: list assignment index out of range"
          ]
        }
      ]
    },
    {
      "cell_type": "code",
      "metadata": {
        "id": "lt_h16Dffh41",
        "outputId": "b9807c31-1a5e-4107-812c-5d4b797b9463"
      },
      "source": [
        "#the deletion operator will also help you in the Software Debugging part\n",
        "a = [1,2,3,4,5,6,7,8,9,10]\n",
        "print(\"let me love!dont you give up\")\n",
        "del a[2]\n",
        "print(a)\n",
        "del a[1]\n",
        "print(a)\n",
        "del a[9]\n",
        "print(a)"
      ],
      "execution_count": null,
      "outputs": [
        {
          "output_type": "stream",
          "text": [
            "let me love!dont you give up\n",
            "[1, 2, 4, 5, 6, 7, 8, 9, 10]\n",
            "[1, 4, 5, 6, 7, 8, 9, 10]\n"
          ],
          "name": "stdout"
        },
        {
          "output_type": "error",
          "ename": "IndexError",
          "evalue": "list assignment index out of range",
          "traceback": [
            "\u001b[1;31m---------------------------------------------------------------------------\u001b[0m",
            "\u001b[1;31mIndexError\u001b[0m                                Traceback (most recent call last)",
            "\u001b[1;32m<ipython-input-28-a5d20f76a08f>\u001b[0m in \u001b[0;36m<module>\u001b[1;34m\u001b[0m\n\u001b[0;32m      6\u001b[0m \u001b[1;32mdel\u001b[0m \u001b[0ma\u001b[0m\u001b[1;33m[\u001b[0m\u001b[1;36m1\u001b[0m\u001b[1;33m]\u001b[0m\u001b[1;33m\u001b[0m\u001b[1;33m\u001b[0m\u001b[0m\n\u001b[0;32m      7\u001b[0m \u001b[0mprint\u001b[0m\u001b[1;33m(\u001b[0m\u001b[0ma\u001b[0m\u001b[1;33m)\u001b[0m\u001b[1;33m\u001b[0m\u001b[1;33m\u001b[0m\u001b[0m\n\u001b[1;32m----> 8\u001b[1;33m \u001b[1;32mdel\u001b[0m \u001b[0ma\u001b[0m\u001b[1;33m[\u001b[0m\u001b[1;36m9\u001b[0m\u001b[1;33m]\u001b[0m\u001b[1;33m\u001b[0m\u001b[1;33m\u001b[0m\u001b[0m\n\u001b[0m\u001b[0;32m      9\u001b[0m \u001b[0mprint\u001b[0m\u001b[1;33m(\u001b[0m\u001b[0ma\u001b[0m\u001b[1;33m)\u001b[0m\u001b[1;33m\u001b[0m\u001b[1;33m\u001b[0m\u001b[0m\n",
            "\u001b[1;31mIndexError\u001b[0m: list assignment index out of range"
          ]
        }
      ]
    },
    {
      "cell_type": "code",
      "metadata": {
        "id": "a9R7DLIsfh42",
        "outputId": "7c86a89e-5c2c-4963-97d4-65d6fc776535"
      },
      "source": [
        "#the deletion operator will also help you in the Software Debugging part\n",
        "a = [1,2,3,4,5,6,7,8,9,10]\n",
        "print(\"let me love!dont you give up\")\n",
        "del a[2]\n",
        "print(a)\n",
        "del a[1]\n",
        "print(a)\n",
        "del a[4]\n",
        "print(a)\n",
        "assert 5<3,\"5 is the greates\""
      ],
      "execution_count": null,
      "outputs": [
        {
          "output_type": "stream",
          "text": [
            "let me love!dont you give up\n",
            "[1, 2, 4, 5, 6, 7, 8, 9, 10]\n",
            "[1, 4, 5, 6, 7, 8, 9, 10]\n",
            "[1, 4, 5, 6, 8, 9, 10]\n"
          ],
          "name": "stdout"
        },
        {
          "output_type": "error",
          "ename": "AssertionError",
          "evalue": "5 is the greates",
          "traceback": [
            "\u001b[1;31m---------------------------------------------------------------------------\u001b[0m",
            "\u001b[1;31mAssertionError\u001b[0m                            Traceback (most recent call last)",
            "\u001b[1;32m<ipython-input-29-171964587f6b>\u001b[0m in \u001b[0;36m<module>\u001b[1;34m\u001b[0m\n\u001b[0;32m      8\u001b[0m \u001b[1;32mdel\u001b[0m \u001b[0ma\u001b[0m\u001b[1;33m[\u001b[0m\u001b[1;36m4\u001b[0m\u001b[1;33m]\u001b[0m\u001b[1;33m\u001b[0m\u001b[1;33m\u001b[0m\u001b[0m\n\u001b[0;32m      9\u001b[0m \u001b[0mprint\u001b[0m\u001b[1;33m(\u001b[0m\u001b[0ma\u001b[0m\u001b[1;33m)\u001b[0m\u001b[1;33m\u001b[0m\u001b[1;33m\u001b[0m\u001b[0m\n\u001b[1;32m---> 10\u001b[1;33m \u001b[1;32massert\u001b[0m \u001b[1;36m5\u001b[0m\u001b[1;33m<\u001b[0m\u001b[1;36m3\u001b[0m\u001b[1;33m,\u001b[0m\u001b[1;34m\"5 is the greates\"\u001b[0m\u001b[1;33m\u001b[0m\u001b[1;33m\u001b[0m\u001b[0m\n\u001b[0m",
            "\u001b[1;31mAssertionError\u001b[0m: 5 is the greates"
          ]
        }
      ]
    },
    {
      "cell_type": "markdown",
      "metadata": {
        "id": "UzOAmWgTfh46"
      },
      "source": [
        "# NOW THE HELL FROM THE COMPILER ASSERT THE FIRE BLAZE"
      ]
    },
    {
      "cell_type": "code",
      "metadata": {
        "id": "dai9_JUtfh46",
        "outputId": "b201f86e-e08e-447f-d626-6043b4ee11fa"
      },
      "source": [
        "assert 5<3,\"5 is the best\""
      ],
      "execution_count": null,
      "outputs": [
        {
          "output_type": "error",
          "ename": "AssertionError",
          "evalue": "5 is the best",
          "traceback": [
            "\u001b[1;31m---------------------------------------------------------------------------\u001b[0m",
            "\u001b[1;31mAssertionError\u001b[0m                            Traceback (most recent call last)",
            "\u001b[1;32m<ipython-input-30-db498469db33>\u001b[0m in \u001b[0;36m<module>\u001b[1;34m\u001b[0m\n\u001b[1;32m----> 1\u001b[1;33m \u001b[1;32massert\u001b[0m \u001b[1;36m5\u001b[0m\u001b[1;33m<\u001b[0m\u001b[1;36m3\u001b[0m\u001b[1;33m,\u001b[0m\u001b[1;34m\"5 is the best\"\u001b[0m\u001b[1;33m\u001b[0m\u001b[1;33m\u001b[0m\u001b[0m\n\u001b[0m",
            "\u001b[1;31mAssertionError\u001b[0m: 5 is the best"
          ]
        }
      ]
    },
    {
      "cell_type": "markdown",
      "metadata": {
        "id": "ACWxoxzNfh48"
      },
      "source": [
        "# THE IF AND THE ELSE STATMENTS"
      ]
    },
    {
      "cell_type": "code",
      "metadata": {
        "id": "ndE_ntKPfh5B",
        "colab": {
          "base_uri": "https://localhost:8080/"
        },
        "outputId": "e7c4172a-d429-44ee-bffd-9b0583a7f451"
      },
      "source": [
        "#the use of the if else statement will be done in here\n",
        "if 's' in 'best':\n",
        "    print(\"s is present\")\n",
        "else:print(\"s is not present\")    "
      ],
      "execution_count": null,
      "outputs": [
        {
          "output_type": "stream",
          "text": [
            "s is present\n"
          ],
          "name": "stdout"
        }
      ]
    },
    {
      "cell_type": "code",
      "metadata": {
        "id": "p8socuO9fh5E",
        "colab": {
          "base_uri": "https://localhost:8080/"
        },
        "outputId": "07a76634-b38e-47d2-93a2-b41c7c8dbfe7"
      },
      "source": [
        "if 's' in 'best':\n",
        "    print(\"s is present\")\n",
        "else:print(\"s is not present\")\n",
        "    \n",
        "for i in 'stupidity':\n",
        "    print(i,end = '')\n",
        "print(\"\\r\")\n",
        "    \n",
        "    "
      ],
      "execution_count": null,
      "outputs": [
        {
          "output_type": "stream",
          "text": [
            "s is present\n",
            "stupidity\r\n"
          ],
          "name": "stdout"
        }
      ]
    },
    {
      "cell_type": "code",
      "metadata": {
        "id": "osnFUdGYfh5G",
        "colab": {
          "base_uri": "https://localhost:8080/"
        },
        "outputId": "eafc6436-89b9-4ccb-b422-ed8da1c72d0c"
      },
      "source": [
        "if 's' in 'best':\n",
        "    print(\"s is present\")\n",
        "else:print(\"s is not present\")\n",
        "    \n",
        "for j in 'stupidity':\n",
        "    print(i,end = '')\n",
        "print(\"\\r\")\n",
        "    \n",
        "    "
      ],
      "execution_count": null,
      "outputs": [
        {
          "output_type": "stream",
          "text": [
            "s is present\n",
            "yyyyyyyyy\r\n"
          ],
          "name": "stdout"
        }
      ]
    },
    {
      "cell_type": "code",
      "metadata": {
        "id": "vRNL3pP6fh5R",
        "colab": {
          "base_uri": "https://localhost:8080/",
          "height": 51
        },
        "outputId": "4c76e5a5-26b7-49f4-8960-1ba195cf8860"
      },
      "source": [
        "if 's' in 'best':\n",
        "    print(\"s is present\")\n",
        "else:print(\"s is not present\")\n",
        "    #look at the diffrences that we will be seeing here in the code\n",
        "for i in 'stupidity':\n",
        "    print(i,end = '')\n",
        "print(\"\\r\") #here we can also study byte stuffing"
      ],
      "execution_count": null,
      "outputs": [
        {
          "output_type": "stream",
          "text": [
            "s is present\n",
            "stupidity\r\n"
          ],
          "name": "stdout"
        }
      ]
    },
    {
      "cell_type": "code",
      "metadata": {
        "id": "YuNBOBGgfh5T",
        "outputId": "18c426b8-7a2f-4606-bdc3-2d471bf3c4a1"
      },
      "source": [
        "if 's' in 'best':\n",
        "    print(\"s is present\")\n",
        "else:print(\"s is not present\")\n",
        "    #look at the diffrences that we will be seeing here in the code\n",
        "for i in 'stupidity':\n",
        "    print(i,end = '')\n",
        "#print(\"\\r\") #here we can also study byte stuffing"
      ],
      "execution_count": null,
      "outputs": [
        {
          "output_type": "stream",
          "text": [
            "s is present\n",
            "stupidity"
          ],
          "name": "stdout"
        }
      ]
    },
    {
      "cell_type": "code",
      "metadata": {
        "id": "7aHguhnvfh5V",
        "outputId": "5063e0be-58bb-4af6-8901-1a8b9f583c3f"
      },
      "source": [
        "person1  = 1\n",
        "person2  = 2\n",
        "person3  = 4\n",
        "if(\n",
        "person1 ==1 and\n",
        "person2 ==2 and (person3 != 10)): #even though we have the keyword not we still can get the leverage of the code done from the typucal c syntaxes\n",
        "    print(\"you are awesome\")"
      ],
      "execution_count": null,
      "outputs": [
        {
          "output_type": "stream",
          "text": [
            "you are awesome\n"
          ],
          "name": "stdout"
        }
      ]
    },
    {
      "cell_type": "code",
      "metadata": {
        "id": "Fucjiw2Pfh5X",
        "colab": {
          "base_uri": "https://localhost:8080/",
          "height": 34
        },
        "outputId": "1b192f01-d6d3-4bfc-c5df-0e5389753560"
      },
      "source": [
        "i =10\n",
        "if(i<12):\n",
        "    print(\"i am the wonderwomens husband\")"
      ],
      "execution_count": null,
      "outputs": [
        {
          "output_type": "stream",
          "text": [
            "i am the wonderwomens husband\n"
          ],
          "name": "stdout"
        }
      ]
    },
    {
      "cell_type": "code",
      "metadata": {
        "id": "YB4-qmGRfh5Z",
        "colab": {
          "base_uri": "https://localhost:8080/",
          "height": 34
        },
        "outputId": "e8a9a6b3-86e5-4bb8-ac17-74330eb828ec"
      },
      "source": [
        "i =10\n",
        "if(i>12):\n",
        "    print(\"i am the wonderwomens husband\")\n",
        "print(\"no validity\")"
      ],
      "execution_count": null,
      "outputs": [
        {
          "output_type": "stream",
          "text": [
            "no validity\n"
          ],
          "name": "stdout"
        }
      ]
    },
    {
      "cell_type": "code",
      "metadata": {
        "id": "4Ds-UaF1fh5c",
        "colab": {
          "base_uri": "https://localhost:8080/",
          "height": 218
        },
        "outputId": "41b80d4b-fc1d-4699-d842-d9dab8f58946"
      },
      "source": [
        "i =10\n",
        "if(i>12):\n",
        "    print(\"i am the wonderwomens husband\")\n",
        "assert 2>3,\"this is not maths\""
      ],
      "execution_count": null,
      "outputs": [
        {
          "output_type": "error",
          "ename": "AssertionError",
          "evalue": "ignored",
          "traceback": [
            "\u001b[0;31m---------------------------------------------------------------------------\u001b[0m",
            "\u001b[0;31mAssertionError\u001b[0m                            Traceback (most recent call last)",
            "\u001b[0;32m<ipython-input-14-90d6d46f09a4>\u001b[0m in \u001b[0;36m<module>\u001b[0;34m()\u001b[0m\n\u001b[1;32m      2\u001b[0m \u001b[0;32mif\u001b[0m\u001b[0;34m(\u001b[0m\u001b[0mi\u001b[0m\u001b[0;34m>\u001b[0m\u001b[0;36m12\u001b[0m\u001b[0;34m)\u001b[0m\u001b[0;34m:\u001b[0m\u001b[0;34m\u001b[0m\u001b[0;34m\u001b[0m\u001b[0m\n\u001b[1;32m      3\u001b[0m     \u001b[0mprint\u001b[0m\u001b[0;34m(\u001b[0m\u001b[0;34m\"i am the wonderwomens husband\"\u001b[0m\u001b[0;34m)\u001b[0m\u001b[0;34m\u001b[0m\u001b[0;34m\u001b[0m\u001b[0m\n\u001b[0;32m----> 4\u001b[0;31m \u001b[0;32massert\u001b[0m \u001b[0;36m2\u001b[0m\u001b[0;34m>\u001b[0m\u001b[0;36m3\u001b[0m\u001b[0;34m,\u001b[0m\u001b[0;34m\"this is not maths\"\u001b[0m\u001b[0;34m\u001b[0m\u001b[0;34m\u001b[0m\u001b[0m\n\u001b[0m",
            "\u001b[0;31mAssertionError\u001b[0m: this is not maths"
          ]
        }
      ]
    },
    {
      "cell_type": "code",
      "metadata": {
        "id": "qVMDLRmPfh5e",
        "colab": {
          "base_uri": "https://localhost:8080/",
          "height": 150
        },
        "outputId": "4880398a-6973-45ed-db37-2f87a56ea40b"
      },
      "source": [
        "i =10\n",
        "if(i>12):\n",
        "    print(\"i am the wonderwomens husband\")\n",
        "assert 2>3:\"this is not maths\""
      ],
      "execution_count": null,
      "outputs": [
        {
          "output_type": "error",
          "ename": "SyntaxError",
          "evalue": "ignored",
          "traceback": [
            "\u001b[0;36m  File \u001b[0;32m\"<ipython-input-15-8299f323b4ca>\"\u001b[0;36m, line \u001b[0;32m4\u001b[0m\n\u001b[0;31m    assert 2>3:\"this is not maths\"\u001b[0m\n\u001b[0m              ^\u001b[0m\n\u001b[0;31mSyntaxError\u001b[0m\u001b[0;31m:\u001b[0m invalid syntax\n"
          ]
        }
      ]
    },
    {
      "cell_type": "code",
      "metadata": {
        "id": "dDB5RrIRfh5g",
        "colab": {
          "base_uri": "https://localhost:8080/",
          "height": 54
        },
        "outputId": "b05ba713-e3d3-499e-c748-ba31fa904cde"
      },
      "source": [
        "i = 20\n",
        "if(i<15):\n",
        "    print(\"this is not true\")\n",
        "else:\n",
        "    print(\"this  may corrupt i have no decissions made use if the else if ladder\")"
      ],
      "execution_count": null,
      "outputs": [
        {
          "output_type": "stream",
          "text": [
            "this  may corrupt i have no decissions made use if the else if ladder\n"
          ],
          "name": "stdout"
        }
      ]
    },
    {
      "cell_type": "markdown",
      "metadata": {
        "id": "8GCZOiM1fh5j"
      },
      "source": [
        "# the elif function call defined as the best"
      ]
    },
    {
      "cell_type": "code",
      "metadata": {
        "id": "KK4AauxEfh5j",
        "outputId": "85fb1f7f-f1fb-4eac-cfaf-b32d9cbf3ba1"
      },
      "source": [
        "i = 20\n",
        "if( i == 10):\n",
        "    print(\"no\")\n",
        "elif( i == 15):\n",
        "    print(\"nooooo\")\n",
        "    pass\n",
        "else:\n",
        "    print(\"no other options\")"
      ],
      "execution_count": null,
      "outputs": [
        {
          "output_type": "stream",
          "text": [
            "no other options\n"
          ],
          "name": "stdout"
        }
      ]
    },
    {
      "cell_type": "code",
      "metadata": {
        "id": "HAAgBvxAfh5m",
        "outputId": "8b61a52b-af53-4b71-878a-bf765f8d1f21"
      },
      "source": [
        "i = 20\n",
        "if( i == 10):\n",
        "    print(\"no\")\n",
        "elif( i == 15):\n",
        "    print(\"nooooo\")\n",
        "    pass\n",
        "\"\"\"else:\n",
        "    print(\"no other options\")\"\"\"\"\"\""
      ],
      "execution_count": null,
      "outputs": [
        {
          "output_type": "error",
          "ename": "SyntaxError",
          "evalue": "EOF while scanning triple-quoted string literal (<ipython-input-45-48f74618b1cb>, line 8)",
          "traceback": [
            "\u001b[1;36m  File \u001b[1;32m\"<ipython-input-45-48f74618b1cb>\"\u001b[1;36m, line \u001b[1;32m8\u001b[0m\n\u001b[1;33m    print(\"no other options\")\"\"\"\"\"\"\u001b[0m\n\u001b[1;37m                                   \n^\u001b[0m\n\u001b[1;31mSyntaxError\u001b[0m\u001b[1;31m:\u001b[0m EOF while scanning triple-quoted string literal\n"
          ]
        }
      ]
    },
    {
      "cell_type": "code",
      "metadata": {
        "id": "QI-gTav9fh5o"
      },
      "source": [
        "num1 = a\n",
        "num2 = b\n",
        "def add(a,b):\n",
        "    return a+b\n",
        "def div(a,b):\n",
        "    return a/b\n",
        "def mul(a,b):\n",
        "    return a*b\n",
        "def sub(a,b):\n",
        "    return a-b\n",
        "select = input(print(\"the selection of the vale using the weights\"))\n",
        "\n",
        "    "
      ],
      "execution_count": null,
      "outputs": []
    },
    {
      "cell_type": "code",
      "metadata": {
        "id": "KsEE9I-9fh5s",
        "outputId": "2c7476a9-b390-4ecb-ebe6-c70e3b5f22f3"
      },
      "source": [
        "def func(a,b,c,d):\n",
        "    print(a,b,c,d)\n",
        "mylist = [1,2,3,4]\n",
        "func(*mylist)"
      ],
      "execution_count": null,
      "outputs": [
        {
          "output_type": "stream",
          "text": [
            "1 2 3 4\n"
          ],
          "name": "stdout"
        }
      ]
    },
    {
      "cell_type": "code",
      "metadata": {
        "id": "cvztH1cHfh5u",
        "outputId": "b8020858-7761-4d84-a51e-244cd01d1e05"
      },
      "source": [
        "def sum1(*args):\n",
        "    sum =0 \n",
        "    for i in range(0,len(args)):\n",
        "        sum = sum+args[i]\n",
        "    return sum\n",
        "print(sum1(1,2,3,4,5))\n",
        "print(sum1(12,13))"
      ],
      "execution_count": null,
      "outputs": [
        {
          "output_type": "stream",
          "text": [
            "15\n",
            "25\n"
          ],
          "name": "stdout"
        }
      ]
    },
    {
      "cell_type": "code",
      "metadata": {
        "id": "M3JvvSdrfh5v",
        "outputId": "5994e877-b5a7-44ba-d6cd-3e5b0140c9a9"
      },
      "source": [
        "def sum1(*args):\n",
        "    sum =0 \n",
        "    for i in range(0,len(args)):\n",
        "        sum = sum+args[i]\n",
        "    return sum\n",
        "print(sum1(1,2,3,4,5))\n",
        "print(sum1(12,13))\n",
        "print(*sum1(12,13))"
      ],
      "execution_count": null,
      "outputs": [
        {
          "output_type": "stream",
          "text": [
            "15\n",
            "25\n"
          ],
          "name": "stdout"
        },
        {
          "output_type": "error",
          "ename": "TypeError",
          "evalue": "print() argument after * must be an iterable, not int",
          "traceback": [
            "\u001b[1;31m---------------------------------------------------------------------------\u001b[0m",
            "\u001b[1;31mTypeError\u001b[0m                                 Traceback (most recent call last)",
            "\u001b[1;32m<ipython-input-54-b88064257971>\u001b[0m in \u001b[0;36m<module>\u001b[1;34m\u001b[0m\n\u001b[0;32m      6\u001b[0m \u001b[0mprint\u001b[0m\u001b[1;33m(\u001b[0m\u001b[0msum1\u001b[0m\u001b[1;33m(\u001b[0m\u001b[1;36m1\u001b[0m\u001b[1;33m,\u001b[0m\u001b[1;36m2\u001b[0m\u001b[1;33m,\u001b[0m\u001b[1;36m3\u001b[0m\u001b[1;33m,\u001b[0m\u001b[1;36m4\u001b[0m\u001b[1;33m,\u001b[0m\u001b[1;36m5\u001b[0m\u001b[1;33m)\u001b[0m\u001b[1;33m)\u001b[0m\u001b[1;33m\u001b[0m\u001b[1;33m\u001b[0m\u001b[0m\n\u001b[0;32m      7\u001b[0m \u001b[0mprint\u001b[0m\u001b[1;33m(\u001b[0m\u001b[0msum1\u001b[0m\u001b[1;33m(\u001b[0m\u001b[1;36m12\u001b[0m\u001b[1;33m,\u001b[0m\u001b[1;36m13\u001b[0m\u001b[1;33m)\u001b[0m\u001b[1;33m)\u001b[0m\u001b[1;33m\u001b[0m\u001b[1;33m\u001b[0m\u001b[0m\n\u001b[1;32m----> 8\u001b[1;33m \u001b[0mprint\u001b[0m\u001b[1;33m(\u001b[0m\u001b[1;33m*\u001b[0m\u001b[0msum1\u001b[0m\u001b[1;33m(\u001b[0m\u001b[1;36m12\u001b[0m\u001b[1;33m,\u001b[0m\u001b[1;36m13\u001b[0m\u001b[1;33m)\u001b[0m\u001b[1;33m)\u001b[0m\u001b[1;33m\u001b[0m\u001b[1;33m\u001b[0m\u001b[0m\n\u001b[0m",
            "\u001b[1;31mTypeError\u001b[0m: print() argument after * must be an iterable, not int"
          ]
        }
      ]
    },
    {
      "cell_type": "code",
      "metadata": {
        "id": "nPDg1bMGfh5w",
        "outputId": "4700c56e-bedd-4503-f030-94868357b343"
      },
      "source": [
        "x,y = input(\"enter the two numbers:   \").split() \n",
        "print(\"the number first enterd\"x)\n",
        "print(\"the number second enterd\"y)"
      ],
      "execution_count": null,
      "outputs": [
        {
          "output_type": "error",
          "ename": "SyntaxError",
          "evalue": "invalid syntax (<ipython-input-46-8eed4bcf788a>, line 2)",
          "traceback": [
            "\u001b[1;36m  File \u001b[1;32m\"<ipython-input-46-8eed4bcf788a>\"\u001b[1;36m, line \u001b[1;32m2\u001b[0m\n\u001b[1;33m    print(\"the number first enterd\"x)\u001b[0m\n\u001b[1;37m                                   ^\u001b[0m\n\u001b[1;31mSyntaxError\u001b[0m\u001b[1;31m:\u001b[0m invalid syntax\n"
          ]
        }
      ]
    },
    {
      "cell_type": "code",
      "metadata": {
        "id": "-8tOBsHtfh5y",
        "outputId": "2b15a895-2b50-49ac-8cfc-be4b33f7971e"
      },
      "source": [
        "x,y = input(\"enter the two numbers:   \").split() \n",
        "print(\"the number first enterd: \",x)\n",
        "print(\"the number second enterd: \",y)"
      ],
      "execution_count": null,
      "outputs": [
        {
          "output_type": "stream",
          "text": [
            "enter the two numbers:   1 3\n",
            "the number first enterd:  1\n",
            "the number second enterd:  3\n"
          ],
          "name": "stdout"
        }
      ]
    },
    {
      "cell_type": "markdown",
      "metadata": {
        "id": "Vgxn6jT6fh52"
      },
      "source": [
        "# the function of the list can aso be done through this code"
      ]
    },
    {
      "cell_type": "code",
      "metadata": {
        "id": "AMl7yLQ7fh53",
        "outputId": "81e4dfad-e4df-4ece-8f47-43ecc78736e0"
      },
      "source": [
        "x = list(map(int,input(\"enter the multiple values\").split()))\n"
      ],
      "execution_count": null,
      "outputs": [
        {
          "output_type": "stream",
          "text": [
            "enter the multiple values1 2 3 4 5 6\n"
          ],
          "name": "stdout"
        }
      ]
    },
    {
      "cell_type": "code",
      "metadata": {
        "id": "iZndlKe6fh55",
        "outputId": "7b5a988c-429e-4ad1-9714-4d4acd34e83d"
      },
      "source": [
        "x = list(map(int,input(\"enter the multiple values\").split()))\n",
        "print(x)"
      ],
      "execution_count": null,
      "outputs": [
        {
          "output_type": "stream",
          "text": [
            "enter the multiple values1 2 3 4 5 6 7\n",
            "[1, 2, 3, 4, 5, 6, 7]\n"
          ],
          "name": "stdout"
        }
      ]
    },
    {
      "cell_type": "markdown",
      "metadata": {
        "id": "Ob3dPtwofh58"
      },
      "source": [
        "# The format keyword code can be written here"
      ]
    },
    {
      "cell_type": "code",
      "metadata": {
        "id": "_GsIgfdJfh59",
        "outputId": "5eab3044-a680-432b-d112-a80474a3855b"
      },
      "source": [
        "a , b = input(\"enter the variables value: \").split()\n",
        "print(\"frst number{} and second number{}\".foramat(a,b))\n",
        "print()"
      ],
      "execution_count": null,
      "outputs": [
        {
          "output_type": "stream",
          "text": [
            "enter the variables value: 1 5\n"
          ],
          "name": "stdout"
        },
        {
          "output_type": "error",
          "ename": "AttributeError",
          "evalue": "'str' object has no attribute 'foramat'",
          "traceback": [
            "\u001b[1;31m---------------------------------------------------------------------------\u001b[0m",
            "\u001b[1;31mAttributeError\u001b[0m                            Traceback (most recent call last)",
            "\u001b[1;32m<ipython-input-52-77d1842a3734>\u001b[0m in \u001b[0;36m<module>\u001b[1;34m\u001b[0m\n\u001b[0;32m      1\u001b[0m \u001b[0ma\u001b[0m\u001b[1;33m,\u001b[0m\u001b[0mb\u001b[0m \u001b[1;33m=\u001b[0m \u001b[0minput\u001b[0m\u001b[1;33m(\u001b[0m\u001b[1;34m\"enter the variables value: \"\u001b[0m\u001b[1;33m)\u001b[0m\u001b[1;33m.\u001b[0m\u001b[0msplit\u001b[0m\u001b[1;33m(\u001b[0m\u001b[1;33m)\u001b[0m\u001b[1;33m\u001b[0m\u001b[1;33m\u001b[0m\u001b[0m\n\u001b[1;32m----> 2\u001b[1;33m \u001b[0mprint\u001b[0m\u001b[1;33m(\u001b[0m\u001b[1;34m\"frst number{} and second number{}\"\u001b[0m\u001b[1;33m.\u001b[0m\u001b[0mforamat\u001b[0m\u001b[1;33m(\u001b[0m\u001b[0ma\u001b[0m\u001b[1;33m,\u001b[0m\u001b[0mb\u001b[0m\u001b[1;33m)\u001b[0m\u001b[1;33m)\u001b[0m\u001b[1;33m\u001b[0m\u001b[1;33m\u001b[0m\u001b[0m\n\u001b[0m\u001b[0;32m      3\u001b[0m \u001b[0mprint\u001b[0m\u001b[1;33m(\u001b[0m\u001b[1;33m)\u001b[0m\u001b[1;33m\u001b[0m\u001b[1;33m\u001b[0m\u001b[0m\n",
            "\u001b[1;31mAttributeError\u001b[0m: 'str' object has no attribute 'foramat'"
          ]
        }
      ]
    },
    {
      "cell_type": "markdown",
      "metadata": {
        "id": "pOr1EMadfh5-"
      },
      "source": [
        "# awesomeness DEFINED in the compiler"
      ]
    },
    {
      "cell_type": "code",
      "metadata": {
        "id": "aZygOyaMfh6A"
      },
      "source": [
        "print(''is'')"
      ],
      "execution_count": null,
      "outputs": []
    },
    {
      "cell_type": "code",
      "metadata": {
        "id": "qUGIVfQUfh6C"
      },
      "source": [
        "print({}is{})"
      ],
      "execution_count": null,
      "outputs": []
    },
    {
      "cell_type": "markdown",
      "metadata": {
        "id": "dHtI3qGufh6E"
      },
      "source": [
        "# the way you call function matter"
      ]
    },
    {
      "cell_type": "code",
      "metadata": {
        "id": "g-rfJ2X3fh6E"
      },
      "source": [
        "#just like the data structure stuff\n",
        "a = 10\n",
        "def read():\n",
        "    print(a)\n",
        "def mod1():\n",
        "    global a\n",
        "    a = 5\n",
        "def mod2():\n",
        "    a = 15\n",
        "#print(r\"\"read()\"+\"mod1()\"+\"mod2\"\")\n",
        "z = read()\n",
        "x = mod1()\n",
        "y = mod2()\n",
        "print(r\"'y'+'z'+'x'\")"
      ],
      "execution_count": null,
      "outputs": []
    },
    {
      "cell_type": "code",
      "metadata": {
        "id": "SYVgHzLGfh6G"
      },
      "source": [
        "#just like the data structure stuff\n",
        "a = 10\n",
        "def read():\n",
        "    print(a)\n",
        "def mod1():\n",
        "    global a\n",
        "    a = 5\n",
        "def mod2():\n",
        "    a = 15\n",
        "#print(r\"\"read()\"+\"mod1()\"+\"mod2\"\")\n",
        "x = mod1()\n",
        "z = read()\n",
        "y = mod2()\n",
        "print(r\"'y'+'z'+'x'\")"
      ],
      "execution_count": null,
      "outputs": []
    },
    {
      "cell_type": "code",
      "metadata": {
        "id": "Uhpg1zYCfh6L"
      },
      "source": [
        "#just like the data structure stuff\n",
        "a = 10\n",
        "def read():\n",
        "    print(a)\n",
        "def mod1():\n",
        "    global a\n",
        "    a = 5\n",
        "def mod2():\n",
        "    a = 15\n",
        "#print(r\"\"read()\"+\"mod1()\"+\"mod2\"\")\n",
        "mod2()#notice the magic from the compiler\n",
        "mod1() \n",
        "read()"
      ],
      "execution_count": null,
      "outputs": []
    },
    {
      "cell_type": "markdown",
      "metadata": {
        "id": "1lJoQppJfh6N"
      },
      "source": [
        "# NAME SCOPE SPACE IN THE PYTHON KERNEL"
      ]
    },
    {
      "cell_type": "markdown",
      "metadata": {
        "id": "HIGl2DOJfh6N"
      },
      "source": [
        "# EXAMPLE 1"
      ]
    },
    {
      "cell_type": "code",
      "metadata": {
        "id": "J90BMbKafh6N"
      },
      "source": [
        "var1 = 5\n",
        "def function_call():\n",
        "    var2 = 6\n",
        "    def cascade_function():\n",
        "        var3 =1\n",
        "        pass\n",
        "    pass\n",
        "pass\n",
        "count = 5\n",
        "def its_here():\n",
        "    global count\n",
        "    count += count\n",
        "    print(count)\n",
        "its_here()"
      ],
      "execution_count": null,
      "outputs": []
    },
    {
      "cell_type": "code",
      "metadata": {
        "id": "iqP1cG0rfh6P"
      },
      "source": [
        "count = 5\n",
        "def its_here():\n",
        "    global count\n",
        "    count = count +1\n",
        "    print(count)\n",
        "its_here()"
      ],
      "execution_count": null,
      "outputs": []
    },
    {
      "cell_type": "code",
      "metadata": {
        "id": "BIuG5x_Ifh6S"
      },
      "source": [
        "def some_one(var):\n",
        "    print(\"you loved me idiot so you broke up with me this many time\",var)\n",
        "    print(var,\"times \"+\"oh my god is it\")\n",
        "some_one(4)"
      ],
      "execution_count": null,
      "outputs": []
    },
    {
      "cell_type": "code",
      "metadata": {
        "id": "M8fr_Fktfh6W"
      },
      "source": [
        "def some_one_else():\n",
        "    print(\"inside my heart\")\n",
        "    var1 = input(\"you are the password to my heart\")\n",
        "    def _inside_my_heart_():\n",
        "        var = 10\n",
        "        print(\"inside the functional heart ,value you are the password to my heart i love you python:\",var1,var)\n",
        "        pass\n",
        "    \n",
        "    pass\n",
        "\n",
        "    \n",
        "some_one_else()\n",
        "_inside_my_heart_()\n",
        "    \n",
        "    \n",
        "    "
      ],
      "execution_count": null,
      "outputs": []
    },
    {
      "cell_type": "markdown",
      "metadata": {
        "id": "MfU36ZdSfh6X"
      },
      "source": [
        "# The conditional statements in core"
      ]
    },
    {
      "cell_type": "code",
      "metadata": {
        "id": "_QBXOFi-fh6Y"
      },
      "source": [
        "x = 10\n",
        "while( x != 0):\n",
        "    if(x > 5):\n",
        "        print(\"x is greater than 5\")\n",
        "    else:\n",
        "        print('x<5')"
      ],
      "execution_count": null,
      "outputs": []
    },
    {
      "cell_type": "code",
      "metadata": {
        "id": "mijwzd-bfh6Z"
      },
      "source": [
        "x = 10\n",
        "\n",
        "while( x != 0):\n",
        "    if(x > 5):\n",
        "        print('x > 5')\n",
        "        break\n",
        "    else:\n",
        "        print('x < 5')\n",
        "x -= 2 #else we can also write the diffrent function so as to follow    "
      ],
      "execution_count": null,
      "outputs": []
    },
    {
      "cell_type": "code",
      "metadata": {
        "id": "ziC5c8bzfh6b"
      },
      "source": [
        "x = 10\n",
        "\n",
        "while( x != 0):\n",
        "    if(x > 5):\n",
        "        print('x > 5')\n",
        "        break\n",
        "    else:\n",
        "        print('x < 5')\n",
        "x = 1 #else we can also write       "
      ],
      "execution_count": null,
      "outputs": []
    },
    {
      "cell_type": "code",
      "metadata": {
        "id": "MmPMoxkDfh6c",
        "outputId": "9c9e3cd5-53dd-46b2-b5c1-56127f8396a8"
      },
      "source": [
        "count =0\n",
        "while(count <1):\n",
        "    count = count +1\n",
        "    print(count)\n",
        "    break\n",
        "else:\n",
        "    print(\"no break\")"
      ],
      "execution_count": null,
      "outputs": [
        {
          "output_type": "stream",
          "text": [
            "1\n"
          ],
          "name": "stdout"
        }
      ]
    },
    {
      "cell_type": "code",
      "metadata": {
        "id": "TP5DBPwBfh6e",
        "outputId": "68afbe4d-7e6f-4356-9483-5e5b9e9df74e"
      },
      "source": [
        "count = 0\n",
        "while(count <= 1):\n",
        "    count  = count + 1\n",
        "    print(count)\n",
        "    for i in range(10):\n",
        "        count += 1\n",
        "        print(count)        \n",
        "else:\n",
        "    print(\"no break\")"
      ],
      "execution_count": null,
      "outputs": [
        {
          "output_type": "stream",
          "text": [
            "1\n",
            "2\n",
            "3\n",
            "4\n",
            "5\n",
            "6\n",
            "7\n",
            "8\n",
            "9\n",
            "10\n",
            "11\n",
            "no break\n"
          ],
          "name": "stdout"
        }
      ]
    },
    {
      "cell_type": "code",
      "metadata": {
        "id": "lp_GvsXZfh6g",
        "outputId": "0a05f3cb-5a7e-4023-c883-4dfbfbcccb33"
      },
      "source": [
        "count = 0\n",
        "while(count <= 1):\n",
        "    count  = count + 1\n",
        "    print(count)\n",
        "    for i in range(10):\n",
        "        count += 1\n",
        "        print(count)\n",
        "        break\n",
        "else:\n",
        "    print(\"no break\")"
      ],
      "execution_count": null,
      "outputs": [
        {
          "output_type": "stream",
          "text": [
            "1\n",
            "2\n",
            "no break\n"
          ],
          "name": "stdout"
        }
      ]
    },
    {
      "cell_type": "code",
      "metadata": {
        "id": "t-8jYUdBfh6h",
        "outputId": "f729e029-d961-470c-de42-eadf50d30863"
      },
      "source": [
        "for i in range(1,4):\n",
        "    print(i)\n",
        "    \n",
        "else:\n",
        "    print(\"yes ececuted for\")"
      ],
      "execution_count": null,
      "outputs": [
        {
          "output_type": "stream",
          "text": [
            "1\n",
            "2\n",
            "3\n",
            "yes ececuted for\n"
          ],
          "name": "stdout"
        }
      ]
    },
    {
      "cell_type": "code",
      "metadata": {
        "id": "G980CFM5fh6i",
        "outputId": "36dee2cb-e80c-4957-90eb-b378ec8c2592"
      },
      "source": [
        "for i in range(1,4):\n",
        "    print(i)\n",
        "    break\n",
        "else:\n",
        "    print(\"yes ececuted for\")"
      ],
      "execution_count": null,
      "outputs": [
        {
          "output_type": "stream",
          "text": [
            "1\n"
          ],
          "name": "stdout"
        }
      ]
    },
    {
      "cell_type": "code",
      "metadata": {
        "id": "yFuHYw7Dfh6k",
        "outputId": "33308125-3154-4b2f-9daa-91ec17a4b47f"
      },
      "source": [
        "def print_name(prefix): \n",
        "    print(\"Searching prefix:{}\".format(prefix)) \n",
        "    try :  \n",
        "        while True: \n",
        "                name = (yield) \n",
        "                if prefix in name: \n",
        "                    print(name) \n",
        "    except GeneratorExit: \n",
        "            print(\"Closing coroutine!!\") \n",
        "  \n",
        "corou = print_name(\"Dear\") \n",
        "corou.__next__() \n",
        "corou.send(\"students\") \n",
        "corou.send(\"Dear all\")\n",
        "corou.close()\n"
      ],
      "execution_count": null,
      "outputs": [
        {
          "output_type": "stream",
          "text": [
            "Searching prefix:Dear\n",
            "Dear all\n",
            "Closing coroutine!!\n"
          ],
          "name": "stdout"
        }
      ]
    },
    {
      "cell_type": "code",
      "metadata": {
        "id": "zgYYTPbFfh6l",
        "outputId": "a0e3aecb-afbe-4250-a2ae-3515292e7930"
      },
      "source": [
        "def print_name(prefix): \n",
        "    print(\"Searching prefix:{}\".format(prefix)) \n",
        "    try :  \n",
        "        while True: \n",
        "                name = (yield) \n",
        "                if prefix in name: \n",
        "                    print(name) \n",
        "    except GeneratorExit: \n",
        "            print(\"Closing coroutine!!\") \n",
        "  \n",
        "corou = print_name(\"Dear\") \n",
        "corou.__next__() \n",
        "corou.send(\"students\") \n",
        "corou.send(\"Dear rnsitans\")"
      ],
      "execution_count": null,
      "outputs": [
        {
          "output_type": "stream",
          "text": [
            "Searching prefix:Dear\n",
            "Dear rnsitans\n"
          ],
          "name": "stdout"
        }
      ]
    },
    {
      "cell_type": "code",
      "metadata": {
        "id": "TTP6kaqmfh6n",
        "outputId": "706bebd3-e4fa-4700-a0e7-2837c2cd2224"
      },
      "source": [
        "\n",
        "# Python3 program for demonstrating \n",
        "# coroutine chaining \n",
        "  \n",
        "def producer(sentence, next_coroutine):\n",
        "    tokens = sentence.split(\" \") \n",
        "    for token in tokens: \n",
        "        next_coroutine.send(token) \n",
        "    next_coroutine.close() \n",
        "  \n",
        "def pattern_filter(pattern=\"ing\", next_coroutine=None): \n",
        "\n",
        "    print(\"Searching for {}\".format(pattern)) \n",
        "    try: \n",
        "        while True: \n",
        "            token = (yield) \n",
        "            if pattern in token: \n",
        "                next_coroutine.send(token) \n",
        "    except GeneratorExit: \n",
        "        print(\"Done with filtering!!\") \n",
        "  \n",
        "def print_token(): \n",
        "    ''' \n",
        "    Act as a sink, simply print the \n",
        "    received tokens \n",
        "    '''\n",
        "    print(\"I'm sink, i'll print tokens\") \n",
        "    try: \n",
        "        while True: \n",
        "            token = (yield) \n",
        "            print(token) \n",
        "    except GeneratorExit: \n",
        "        print(\"Done with printing!\") \n",
        "  \n",
        "pt = print_token() \n",
        "pt.__next__() \n",
        "pf = pattern_filter(next_coroutine = pt) \n",
        "pf.__next__() \n"
      ],
      "execution_count": null,
      "outputs": [
        {
          "output_type": "stream",
          "text": [
            "I'm sink, i'll print tokens\n",
            "Searching for ing\n"
          ],
          "name": "stdout"
        }
      ]
    },
    {
      "cell_type": "code",
      "metadata": {
        "id": "RMSr_dIlfh6o"
      },
      "source": [
        ""
      ],
      "execution_count": null,
      "outputs": []
    },
    {
      "cell_type": "code",
      "metadata": {
        "id": "Wvn5Q5U2fh6p"
      },
      "source": [
        ""
      ],
      "execution_count": null,
      "outputs": []
    },
    {
      "cell_type": "markdown",
      "metadata": {
        "id": "KbEWuTw2fh6q"
      },
      "source": [
        "# The midblowing dictionaries"
      ]
    },
    {
      "cell_type": "code",
      "metadata": {
        "id": "uytLqjTTfh6r"
      },
      "source": [
        "import math \n",
        "def dispatch_dict(operator,x,y):\n",
        "    return{\n",
        "        'add':lambda: x+y,\n",
        "        'sub':lambda :x - y,\n",
        "        'div':lambda :x / y,\n",
        "        'floordiv':lambda: x // y\n",
        "    }.get(operator,None)()\n",
        "dispatch_dict('add',4,5)\n",
        "dispatch_dict('sub',4,6)\n",
        "dispatch_dict('div',4,2)\n",
        "dispatch_dict('floordiv',2,3)"
      ],
      "execution_count": null,
      "outputs": []
    },
    {
      "cell_type": "code",
      "metadata": {
        "id": "Ytdul9xefh6s"
      },
      "source": [
        "import math \n",
        "def dispatch_dict(operator,x,y):\n",
        "    return{\n",
        "        'add':lambda: x+y,\n",
        "        'sub':lambda :x - y,\n",
        "        'div':lambda :x / y,\n",
        "        'floordiv':lambda: x // y\n",
        "    }.get(operator,None)()\n",
        "a = dispatch_dict('add',4,5)\n",
        "b = dispatch_dict('sub',4,6)\n",
        "c = dispatch_dict('div',4,2)\n",
        "d = dispatch_dict('floordiv',2,3)\n",
        "print(a       ,         b ,          c ,          d)"
      ],
      "execution_count": null,
      "outputs": []
    },
    {
      "cell_type": "code",
      "metadata": {
        "id": "RiGdU9gQfh6v"
      },
      "source": [
        "import math \n",
        "def dispatch_dict(operator,x,y):\n",
        "    return{\n",
        "        'add':lambda: x+y,\n",
        "        'sub':lambda :x - y,\n",
        "        'div':lambda :x / y,\n",
        "        'flordiv':lambda: x // y,\n",
        "        'sqrt':lambda :sqrt(x)\n",
        "    }.get(operator,None)()\n",
        "dispatch_dict('add',4,5)\n",
        "dispatch_dict('sub',4,6)\n",
        "dispatch_dict('div',4,2)\n",
        "disptach_dict('sqrt',2,5)"
      ],
      "execution_count": null,
      "outputs": []
    },
    {
      "cell_type": "code",
      "metadata": {
        "id": "gNI38_nPfh6w"
      },
      "source": [
        "import math \n",
        "def dispatch_dict(operator,x,y):\n",
        "    return{\n",
        "        'add':lambda: x+y,\n",
        "        'sub':lambda :x - y,\n",
        "        'div':lambda :x / y,\n",
        "        'flordiv':lambda: x // y,\n",
        "        'sqrt':lambda :sqrt(x)\n",
        "    }.get(operator,None)()\n",
        "dispatch_dict('add',4,5)\n",
        "dispatch_dict('sub',4,6)\n",
        "dispatch_dict('div',4,2)\n",
        "#disptach_dict('sqrt',2,5)"
      ],
      "execution_count": null,
      "outputs": []
    },
    {
      "cell_type": "code",
      "metadata": {
        "id": "FAT7r1refh6x"
      },
      "source": [
        "dispatch_dict('add',2,3)"
      ],
      "execution_count": null,
      "outputs": []
    },
    {
      "cell_type": "markdown",
      "metadata": {
        "id": "uV8XtxE0fh6z"
      },
      "source": [
        "# dictionaries tutorial continude"
      ]
    },
    {
      "cell_type": "code",
      "metadata": {
        "id": "XC_7cXGmfh6z"
      },
      "source": [
        "operator = {'nimbuda':print(\"aish killed slaman\"),'salman':print(\"too many affairs\"),'aish':print(\"Vivek died for her\"),'ad':print(\"kajol is my love\")}\n"
      ],
      "execution_count": null,
      "outputs": []
    },
    {
      "cell_type": "code",
      "metadata": {
        "id": "u6tffYmrfh60"
      },
      "source": [
        "operator = {'nimbuda':print(\"aish killed slaman\"),'salman':print(\"too many affairs\"),'aish':printf(\"Vivek died for her\"),'ad':print(\"kajol is my love\")}\n",
        "operator('nimbuda')"
      ],
      "execution_count": null,
      "outputs": []
    },
    {
      "cell_type": "code",
      "metadata": {
        "id": "JQZGT11efh61"
      },
      "source": [
        "operator = {'nimbuda':print(\"aish killed slaman\"),'salman':print(\"too many affairs\"),'aish':print(\"Vivek died for her\"),'ad':print(\"kajol is my love\")}\n",
        "operator(0)"
      ],
      "execution_count": null,
      "outputs": []
    },
    {
      "cell_type": "code",
      "metadata": {
        "id": "XCu1nNCNfh62"
      },
      "source": [
        "operator = dict{'nimbuda':print(\"aish killed slaman\"),'salman':print(\"too many affairs\"),'aish':print(\"Vivek died for her\"),'ad':print(\"kajol is my love\")}\n",
        "operator(0)"
      ],
      "execution_count": null,
      "outputs": []
    },
    {
      "cell_type": "code",
      "metadata": {
        "id": "uh--BaxCfh64"
      },
      "source": [
        "dict1 = {('nimbuda': lambda:print(\"aish killed slaman\")),('salman':lambda:print(\"too many affairs\")),('aish':print(\"Vivek died for her\"))}\n",
        "print(dict1(0))"
      ],
      "execution_count": null,
      "outputs": []
    },
    {
      "cell_type": "code",
      "metadata": {
        "id": "er_MpwyZfh65"
      },
      "source": [
        "print(operator['nimbuda'])"
      ],
      "execution_count": null,
      "outputs": []
    },
    {
      "cell_type": "code",
      "metadata": {
        "id": "Ux0AbhFrfh67"
      },
      "source": [
        "print(operator.get(3))"
      ],
      "execution_count": null,
      "outputs": []
    },
    {
      "cell_type": "markdown",
      "metadata": {
        "id": "No5ad8khfh68"
      },
      "source": [
        "# the data initialization in the dynamic form"
      ]
    },
    {
      "cell_type": "code",
      "metadata": {
        "id": "uTg0ulrlfh69"
      },
      "source": [
        "a = 5\n",
        "print(\"The value of a is: \"+str(a))"
      ],
      "execution_count": null,
      "outputs": []
    },
    {
      "cell_type": "code",
      "metadata": {
        "id": "uc_NW7mofh6_"
      },
      "source": [
        "a =12 if 20 > 10 else 0\n",
        "print(\"the value of the a is \"+ str(a))"
      ],
      "execution_count": null,
      "outputs": []
    },
    {
      "cell_type": "markdown",
      "metadata": {
        "id": "pyduQqhvfh7A"
      },
      "source": [
        "here we can see that the inside the try we can get the highest precidence"
      ]
    },
    {
      "cell_type": "code",
      "metadata": {
        "id": "UkVwEeUrfh7A"
      },
      "source": [
        "for i in range(10):\n",
        "    try:\n",
        "        print(\"numpy\")\n",
        "        pass #try obviously gets the highest prcidence\n",
        "    except:\n",
        "        print(\"pandas\")"
      ],
      "execution_count": null,
      "outputs": []
    },
    {
      "cell_type": "code",
      "metadata": {
        "id": "l9CqzrOCfh7C"
      },
      "source": [
        "a = [1,2,3,4,5,6,7,812,13,14]\n",
        "for i in range(10):\n",
        "    print(a[i])\n",
        "    "
      ],
      "execution_count": null,
      "outputs": []
    },
    {
      "cell_type": "code",
      "metadata": {
        "id": "HeX6CRDYfh7D"
      },
      "source": [
        "a = [1,2,3,4,5,6,7,812,13,14]\n",
        "for i in range(10):\n",
        "    print(a[i])\n",
        "    pass"
      ],
      "execution_count": null,
      "outputs": []
    },
    {
      "cell_type": "code",
      "metadata": {
        "id": "OAT87h3Sfh7E"
      },
      "source": [
        "a = [1,2,3,4,5,6,7,812,13,14]\n",
        "for i in range(10):\n",
        "    print(a[i])\n",
        "    break"
      ],
      "execution_count": null,
      "outputs": []
    },
    {
      "cell_type": "code",
      "metadata": {
        "id": "EzVcnNuFfh7G"
      },
      "source": [
        "a = [1,2,3,4,5,6,7,812,13,14]\n",
        "for i in range(10):\n",
        "    print(a[i],end = \"\")"
      ],
      "execution_count": null,
      "outputs": []
    },
    {
      "cell_type": "code",
      "metadata": {
        "id": "VDLu-fM4fh7G"
      },
      "source": [
        "a = [1,2,3,4,5,6,7,812,13,14]\n",
        "for i in range(10):\n",
        "    print(a[i]''\\n',end = \"\")"
      ],
      "execution_count": null,
      "outputs": []
    },
    {
      "cell_type": "markdown",
      "metadata": {
        "id": "zyQ9wnbOfh7I"
      },
      "source": [
        "look at the beauty of the compiler"
      ]
    },
    {
      "cell_type": "code",
      "metadata": {
        "id": "pAJYa07nfh7I"
      },
      "source": [
        "print(\"geeks of techniod\")\n",
        "a = (\"ak,ani,sh\")\n",
        "for i in range(10):\n",
        "    print(a)\n",
        "    "
      ],
      "execution_count": null,
      "outputs": []
    },
    {
      "cell_type": "code",
      "metadata": {
        "id": "G98YEt1Tfh7M"
      },
      "source": [
        "print(\"geeks of techniod\")\n",
        "a = (\"ak,ani,sh\")\n",
        "for i in range(10):\n",
        "    print(a)\n",
        "    break\n",
        "    "
      ],
      "execution_count": null,
      "outputs": []
    },
    {
      "cell_type": "code",
      "metadata": {
        "id": "StqXOTIPfh7P"
      },
      "source": [
        "print(\"geeks of techniod\")\n",
        "a = (\"ak,ani,sh\")\n",
        "for i in range(10):\n",
        "    print(a)\n",
        "    pass\n",
        "    "
      ],
      "execution_count": null,
      "outputs": []
    },
    {
      "cell_type": "code",
      "metadata": {
        "id": "LUfXXfXkfh7R"
      },
      "source": [
        "a = [1,2,3,4]\n",
        "print(a)"
      ],
      "execution_count": null,
      "outputs": []
    },
    {
      "cell_type": "markdown",
      "metadata": {
        "id": "MGqghfPffh7S"
      },
      "source": [
        "# the competative coding aspects"
      ]
    },
    {
      "cell_type": "markdown",
      "metadata": {
        "id": "x9jijELqfh7T"
      },
      "source": [
        "this is important value for the programing aspects"
      ]
    },
    {
      "cell_type": "code",
      "metadata": {
        "id": "aj8Mf8CWfh7T",
        "outputId": "74cb22ee-8663-4f04-da77-8a0f528b2372"
      },
      "source": [
        "s = 'a'\n",
        "c = ord(s)\n",
        "print(c)"
      ],
      "execution_count": null,
      "outputs": [
        {
          "output_type": "stream",
          "text": [
            "97\n"
          ],
          "name": "stdout"
        }
      ]
    },
    {
      "cell_type": "code",
      "metadata": {
        "id": "RBXnzeCIfh7U",
        "outputId": "37758f71-c3b9-4185-e2d8-1cce0c14abce"
      },
      "source": [
        "init = 2989887678\n",
        "hexvalue =hex(init)\n",
        "print(hexvalue)"
      ],
      "execution_count": null,
      "outputs": [
        {
          "output_type": "stream",
          "text": [
            "0xb23610be\n"
          ],
          "name": "stdout"
        }
      ]
    },
    {
      "cell_type": "code",
      "metadata": {
        "id": "rc662t7pfh7V",
        "outputId": "a8735a40-82df-4005-9165-f656f51ae003"
      },
      "source": [
        "init1 = 34234234\n",
        "octvalue = oct(init1)\n",
        "print(octvalue)"
      ],
      "execution_count": null,
      "outputs": [
        {
          "output_type": "stream",
          "text": [
            "0o202457572\n"
          ],
          "name": "stdout"
        }
      ]
    },
    {
      "cell_type": "code",
      "metadata": {
        "id": "_3qyhM-7fh7W",
        "outputId": "e4d97fcf-c868-4962-e22e-8de47c248f71"
      },
      "source": [
        "tup = tuple(s)\n",
        "print(tup)"
      ],
      "execution_count": null,
      "outputs": [
        {
          "output_type": "stream",
          "text": [
            "('a',)\n"
          ],
          "name": "stdout"
        }
      ]
    },
    {
      "cell_type": "code",
      "metadata": {
        "id": "e_KwRgNJfh7Y",
        "outputId": "60b71395-6403-432f-bbf8-51dd3403f49d"
      },
      "source": [
        "sets = set(s)\n",
        "print(sets)"
      ],
      "execution_count": null,
      "outputs": [
        {
          "output_type": "stream",
          "text": [
            "{'a'}\n"
          ],
          "name": "stdout"
        }
      ]
    },
    {
      "cell_type": "code",
      "metadata": {
        "id": "z4QViB6Tfh7Z",
        "outputId": "45c522a7-a441-4483-f8aa-b88cbbf1dc66"
      },
      "source": [
        "link = (\"GREAT TECHNOIDS ARE LEAVING THE COLLEGE\")\n",
        "lists = list(links)\n",
        "print(lists,end = '')"
      ],
      "execution_count": null,
      "outputs": [
        {
          "output_type": "error",
          "ename": "NameError",
          "evalue": "name 'links' is not defined",
          "traceback": [
            "\u001b[1;31m---------------------------------------------------------------------------\u001b[0m",
            "\u001b[1;31mNameError\u001b[0m                                 Traceback (most recent call last)",
            "\u001b[1;32m<ipython-input-66-5a1848602377>\u001b[0m in \u001b[0;36m<module>\u001b[1;34m\u001b[0m\n\u001b[0;32m      1\u001b[0m \u001b[0mlink\u001b[0m \u001b[1;33m=\u001b[0m \u001b[1;33m(\u001b[0m\u001b[1;34m\"GREAT TECHNOIDS ARE LEAVING THE COLLEGE\"\u001b[0m\u001b[1;33m)\u001b[0m\u001b[1;33m\u001b[0m\u001b[1;33m\u001b[0m\u001b[0m\n\u001b[1;32m----> 2\u001b[1;33m \u001b[0mlists\u001b[0m \u001b[1;33m=\u001b[0m \u001b[0mlist\u001b[0m\u001b[1;33m(\u001b[0m\u001b[0mlinks\u001b[0m\u001b[1;33m)\u001b[0m\u001b[1;33m\u001b[0m\u001b[1;33m\u001b[0m\u001b[0m\n\u001b[0m\u001b[0;32m      3\u001b[0m \u001b[0mprint\u001b[0m\u001b[1;33m(\u001b[0m\u001b[0mlists\u001b[0m\u001b[1;33m,\u001b[0m\u001b[0mend\u001b[0m \u001b[1;33m=\u001b[0m \u001b[1;34m''\u001b[0m\u001b[1;33m)\u001b[0m\u001b[1;33m\u001b[0m\u001b[1;33m\u001b[0m\u001b[0m\n",
            "\u001b[1;31mNameError\u001b[0m: name 'links' is not defined"
          ]
        }
      ]
    },
    {
      "cell_type": "code",
      "metadata": {
        "id": "1cAt1rkLfh7b",
        "outputId": "562b8be8-5f0a-4af2-95ae-86b1c520432e"
      },
      "source": [
        "a = 1\n",
        "b = 2\n",
        "comp = complex(a,b)\n",
        "print(comp)"
      ],
      "execution_count": null,
      "outputs": [
        {
          "output_type": "stream",
          "text": [
            "(1+2j)\n"
          ],
          "name": "stdout"
        }
      ]
    },
    {
      "cell_type": "code",
      "metadata": {
        "id": "658WZmONfh7d",
        "outputId": "72c13d77-d8ef-4055-d277-8d90fed10d0f"
      },
      "source": [
        "a =1 \n",
        "stri = str(a)\n",
        "print(stri)"
      ],
      "execution_count": null,
      "outputs": [
        {
          "output_type": "stream",
          "text": [
            "1\n"
          ],
          "name": "stdout"
        }
      ]
    },
    {
      "cell_type": "code",
      "metadata": {
        "id": "Fikod3Bpfh7g",
        "outputId": "3a8592a8-b63f-48d9-af59-0ae7b1b7e432"
      },
      "source": [
        "tup = (('a',1),('b',2),('c',3))\n",
        "dicti = dict(tup)\n",
        "print(dicti)"
      ],
      "execution_count": null,
      "outputs": [
        {
          "output_type": "stream",
          "text": [
            "{'a': 1, 'b': 2, 'c': 3}\n"
          ],
          "name": "stdout"
        }
      ]
    },
    {
      "cell_type": "markdown",
      "metadata": {
        "id": "c5I1bz1Efh7i"
      },
      "source": [
        "private variable in python"
      ]
    },
    {
      "cell_type": "code",
      "metadata": {
        "id": "LpFGC9qxfh7j",
        "outputId": "d8df550c-42cd-4c29-bda7-d74908c17317"
      },
      "source": [
        "def _get_errors(self):\n",
        "    if self._errors is None:\n",
        "        self.fullclean()\n",
        "    return self.errors\n",
        "errors = property(_get_errors)\n",
        "print(errors)\n",
        "print(\"fully cleaned\")"
      ],
      "execution_count": null,
      "outputs": [
        {
          "output_type": "stream",
          "text": [
            "<property object at 0x000002B70425DB38>\n",
            "fully cleaned\n"
          ],
          "name": "stdout"
        }
      ]
    },
    {
      "cell_type": "code",
      "metadata": {
        "id": "PIVFXNHUfh7l",
        "outputId": "01fa45ed-74f8-4c26-d31e-c6647c9fbc4c"
      },
      "source": [
        "def _get_errors(self):\n",
        "    if self._error is None:#look for the code\n",
        "        self.fullclean()\n",
        "    return self.error\n",
        "errors = property(_get_error)\n",
        "print(errors)\n",
        "print(\"fully cleaned\")"
      ],
      "execution_count": null,
      "outputs": [
        {
          "output_type": "stream",
          "text": [
            "<property object at 0x000002B70425DCC8>\n",
            "fully cleaned\n"
          ],
          "name": "stdout"
        }
      ]
    },
    {
      "cell_type": "code",
      "metadata": {
        "id": "khtKkqySfh7m",
        "outputId": "c58366e7-f000-4a69-d5e2-e26f8e2daec6"
      },
      "source": [
        "def _get_errors(self):\n",
        "    if self._error is None:#look for the code\n",
        "        self.fullclean()\n",
        "    return self.error\n",
        "errors = property(_get_error)\n",
        "print(errors)\n",
        "print(\"fully cleaned\")"
      ],
      "execution_count": null,
      "outputs": [
        {
          "output_type": "stream",
          "text": [
            "<property object at 0x000002B704266098>\n",
            "fully cleaned\n"
          ],
          "name": "stdout"
        }
      ]
    },
    {
      "cell_type": "code",
      "metadata": {
        "id": "Ix0rtsPSfh7n",
        "outputId": "3fceb383-3a03-45fe-9650-da99c28896fe"
      },
      "source": [
        "def _get_errors(self):\n",
        "    if self._error is quit():#look for the code\n",
        "        self.fullclean()\n",
        "    return self.error\n",
        "errors = property(_get_error)\n",
        "print(errors)\n",
        "print(\"fully cleaned\")"
      ],
      "execution_count": null,
      "outputs": [
        {
          "output_type": "stream",
          "text": [
            "<property object at 0x000002B704266228>\n",
            "fully cleaned\n"
          ],
          "name": "stdout"
        }
      ]
    },
    {
      "cell_type": "code",
      "metadata": {
        "id": "MuERGHcnfh7p",
        "outputId": "83c62d1d-8712-49c5-863e-ad852ce87d73"
      },
      "source": [
        "def _get_errors(self):\n",
        "    if self._error is complex(1,2):#look for the code\n",
        "        self.fullclean()\n",
        "    return self.error\n",
        "errors = property(_get_error)\n",
        "print(errors)\n",
        "print(\"fully cleaned\")"
      ],
      "execution_count": null,
      "outputs": [
        {
          "output_type": "stream",
          "text": [
            "<property object at 0x000002B704266408>\n",
            "fully cleaned\n"
          ],
          "name": "stdout"
        }
      ]
    },
    {
      "cell_type": "code",
      "metadata": {
        "id": "PhN-NF0Ufh7q"
      },
      "source": [
        "class technoids:\n",
        "    def _single_technoids(self):\n",
        "        print(\"none\")\n",
        "        pass\n",
        "    def __double_techoids(self):\n",
        "        print(\"everyting\")\n",
        "        pass\n",
        "class python(technoids):\n",
        "    def __double_method(self):\n",
        "        pass"
      ],
      "execution_count": null,
      "outputs": []
    },
    {
      "cell_type": "code",
      "metadata": {
        "id": "H7A1UMPtfh73",
        "outputId": "952a22b1-7384-4864-a92e-69921c1cb249"
      },
      "source": [
        "class MAP:\n",
        "    def __init__(self,iterate):\n",
        "        self.list =[]\n",
        "        self.__geek(iterate)\n",
        "    def geek(self,iterate):\n",
        "        for item in iterate:\n",
        "            self.list.append(item)\n",
        "            \n",
        "    __geek =vish\n",
        "class mapsubclass(MAP):\n",
        "    def geek(Self,key,value):\n",
        "        for i in zip(keys,values):\n",
        "            self.list.append(i)"
      ],
      "execution_count": null,
      "outputs": [
        {
          "output_type": "error",
          "ename": "NameError",
          "evalue": "name 'vish' is not defined",
          "traceback": [
            "\u001b[1;31m---------------------------------------------------------------------------\u001b[0m",
            "\u001b[1;31mNameError\u001b[0m                                 Traceback (most recent call last)",
            "\u001b[1;32m<ipython-input-85-888b0b556d73>\u001b[0m in \u001b[0;36m<module>\u001b[1;34m\u001b[0m\n\u001b[1;32m----> 1\u001b[1;33m \u001b[1;32mclass\u001b[0m \u001b[0mMAP\u001b[0m\u001b[1;33m:\u001b[0m\u001b[1;33m\u001b[0m\u001b[1;33m\u001b[0m\u001b[0m\n\u001b[0m\u001b[0;32m      2\u001b[0m     \u001b[1;32mdef\u001b[0m \u001b[0m__init__\u001b[0m\u001b[1;33m(\u001b[0m\u001b[0mself\u001b[0m\u001b[1;33m,\u001b[0m\u001b[0miterate\u001b[0m\u001b[1;33m)\u001b[0m\u001b[1;33m:\u001b[0m\u001b[1;33m\u001b[0m\u001b[1;33m\u001b[0m\u001b[0m\n\u001b[0;32m      3\u001b[0m         \u001b[0mself\u001b[0m\u001b[1;33m.\u001b[0m\u001b[0mlist\u001b[0m \u001b[1;33m=\u001b[0m\u001b[1;33m[\u001b[0m\u001b[1;33m]\u001b[0m\u001b[1;33m\u001b[0m\u001b[1;33m\u001b[0m\u001b[0m\n\u001b[0;32m      4\u001b[0m         \u001b[0mself\u001b[0m\u001b[1;33m.\u001b[0m\u001b[0m__geek\u001b[0m\u001b[1;33m(\u001b[0m\u001b[0miterate\u001b[0m\u001b[1;33m)\u001b[0m\u001b[1;33m\u001b[0m\u001b[1;33m\u001b[0m\u001b[0m\n\u001b[0;32m      5\u001b[0m     \u001b[1;32mdef\u001b[0m \u001b[0mgeek\u001b[0m\u001b[1;33m(\u001b[0m\u001b[0mself\u001b[0m\u001b[1;33m,\u001b[0m\u001b[0miterate\u001b[0m\u001b[1;33m)\u001b[0m\u001b[1;33m:\u001b[0m\u001b[1;33m\u001b[0m\u001b[1;33m\u001b[0m\u001b[0m\n",
            "\u001b[1;32m<ipython-input-85-888b0b556d73>\u001b[0m in \u001b[0;36mMAP\u001b[1;34m()\u001b[0m\n\u001b[0;32m      7\u001b[0m             \u001b[0mself\u001b[0m\u001b[1;33m.\u001b[0m\u001b[0mlist\u001b[0m\u001b[1;33m.\u001b[0m\u001b[0mappend\u001b[0m\u001b[1;33m(\u001b[0m\u001b[0mitem\u001b[0m\u001b[1;33m)\u001b[0m\u001b[1;33m\u001b[0m\u001b[1;33m\u001b[0m\u001b[0m\n\u001b[0;32m      8\u001b[0m \u001b[1;33m\u001b[0m\u001b[0m\n\u001b[1;32m----> 9\u001b[1;33m     \u001b[0m__geek\u001b[0m \u001b[1;33m=\u001b[0m\u001b[0mvish\u001b[0m\u001b[1;33m\u001b[0m\u001b[1;33m\u001b[0m\u001b[0m\n\u001b[0m\u001b[0;32m     10\u001b[0m \u001b[1;32mclass\u001b[0m \u001b[0mmapsubclass\u001b[0m\u001b[1;33m(\u001b[0m\u001b[0mMAP\u001b[0m\u001b[1;33m)\u001b[0m\u001b[1;33m:\u001b[0m\u001b[1;33m\u001b[0m\u001b[1;33m\u001b[0m\u001b[0m\n\u001b[0;32m     11\u001b[0m     \u001b[1;32mdef\u001b[0m \u001b[0mgeek\u001b[0m\u001b[1;33m(\u001b[0m\u001b[0mSelf\u001b[0m\u001b[1;33m,\u001b[0m\u001b[0mkey\u001b[0m\u001b[1;33m,\u001b[0m\u001b[0mvalue\u001b[0m\u001b[1;33m)\u001b[0m\u001b[1;33m:\u001b[0m\u001b[1;33m\u001b[0m\u001b[1;33m\u001b[0m\u001b[0m\n",
            "\u001b[1;31mNameError\u001b[0m: name 'vish' is not defined"
          ]
        }
      ]
    },
    {
      "cell_type": "code",
      "metadata": {
        "id": "s6wFvkZPfh74",
        "outputId": "67ce995d-5cf0-4208-c7e4-7897b335b022"
      },
      "source": [
        "class a:\n",
        "    def __init__(self,a):\n",
        "        self.a =a\n",
        "        def __add__(self,o):\n",
        "            return self.a+ o.a\n",
        "            pass\n",
        "        pass\n",
        "    pass\n",
        "p1 = a(\"Adithi\")\n",
        "p2 = a(\"akshatha\")\n",
        "p3 = a(\"ipshitha\")\n",
        "p4 = a(\"kushal\")\n",
        "p5 = a(\"VIshwas\")\n",
        "print(p1)\n",
        "print(p2)\n",
        "print(p3)\n",
        "print(p4)\n",
        "print(p5)"
      ],
      "execution_count": null,
      "outputs": [
        {
          "output_type": "stream",
          "text": [
            "<__main__.a object at 0x00000251CC2C0A20>\n",
            "<__main__.a object at 0x00000251CC2C0978>\n",
            "<__main__.a object at 0x00000251CC2C0240>\n",
            "<__main__.a object at 0x00000251CC2C0198>\n",
            "<__main__.a object at 0x00000251CC2C0208>\n"
          ],
          "name": "stdout"
        }
      ]
    },
    {
      "cell_type": "code",
      "metadata": {
        "id": "RalboobTfh76",
        "outputId": "a0774804-e398-4651-a7e7-f6741baa21ef"
      },
      "source": [
        "def number_to_string(argument): #the code is the dictionary code\n",
        "    switcher = {\n",
        "        0: \"zero\",\n",
        "        1: \"one\",\n",
        "        2: \"two\",\n",
        "    }\n",
        "    return switcher.get(argument,\"nothing\")\n",
        "if __name__ == \"__main__\":\n",
        "    argument = 0\n",
        "    print(number_to_string(argument))"
      ],
      "execution_count": null,
      "outputs": [
        {
          "output_type": "stream",
          "text": [
            "zero\n"
          ],
          "name": "stdout"
        }
      ]
    },
    {
      "cell_type": "code",
      "metadata": {
        "id": "cNdZAHvRfh77",
        "outputId": "fc6eab18-25b5-453a-c81a-b6a5ab7a232e"
      },
      "source": [
        "n = int(raw_input())\n",
        "\n",
        "arr = [int(x) for x in raw_input().split()]\n",
        "summation  = 0\n",
        "for x in arr:\n",
        "    summantion += x\n",
        "print(summation)"
      ],
      "execution_count": null,
      "outputs": [
        {
          "output_type": "error",
          "ename": "NameError",
          "evalue": "name 'raw_input' is not defined",
          "traceback": [
            "\u001b[1;31m---------------------------------------------------------------------------\u001b[0m",
            "\u001b[1;31mNameError\u001b[0m                                 Traceback (most recent call last)",
            "\u001b[1;32m<ipython-input-9-0f962f34342b>\u001b[0m in \u001b[0;36m<module>\u001b[1;34m\u001b[0m\n\u001b[1;32m----> 1\u001b[1;33m \u001b[0mn\u001b[0m \u001b[1;33m=\u001b[0m \u001b[0mint\u001b[0m\u001b[1;33m(\u001b[0m\u001b[0mraw_input\u001b[0m\u001b[1;33m(\u001b[0m\u001b[1;33m)\u001b[0m\u001b[1;33m)\u001b[0m\u001b[1;33m\u001b[0m\u001b[1;33m\u001b[0m\u001b[0m\n\u001b[0m\u001b[0;32m      2\u001b[0m \u001b[1;33m\u001b[0m\u001b[0m\n\u001b[0;32m      3\u001b[0m \u001b[0marr\u001b[0m \u001b[1;33m=\u001b[0m \u001b[1;33m[\u001b[0m\u001b[0mint\u001b[0m\u001b[1;33m(\u001b[0m\u001b[0mx\u001b[0m\u001b[1;33m)\u001b[0m \u001b[1;32mfor\u001b[0m \u001b[0mx\u001b[0m \u001b[1;32min\u001b[0m \u001b[0mraw_input\u001b[0m\u001b[1;33m(\u001b[0m\u001b[1;33m)\u001b[0m\u001b[1;33m.\u001b[0m\u001b[0msplit\u001b[0m\u001b[1;33m(\u001b[0m\u001b[1;33m)\u001b[0m\u001b[1;33m]\u001b[0m\u001b[1;33m\u001b[0m\u001b[1;33m\u001b[0m\u001b[0m\n\u001b[0;32m      4\u001b[0m \u001b[0msummation\u001b[0m  \u001b[1;33m=\u001b[0m \u001b[1;36m0\u001b[0m\u001b[1;33m\u001b[0m\u001b[1;33m\u001b[0m\u001b[0m\n\u001b[0;32m      5\u001b[0m \u001b[1;32mfor\u001b[0m \u001b[0mx\u001b[0m \u001b[1;32min\u001b[0m \u001b[0marr\u001b[0m\u001b[1;33m:\u001b[0m\u001b[1;33m\u001b[0m\u001b[1;33m\u001b[0m\u001b[0m\n",
            "\u001b[1;31mNameError\u001b[0m: name 'raw_input' is not defined"
          ]
        }
      ]
    },
    {
      "cell_type": "markdown",
      "metadata": {
        "id": "gtViTEyjfh79"
      },
      "source": [
        "# #the geeks fro geeks code has to be shown"
      ]
    },
    {
      "cell_type": "markdown",
      "metadata": {
        "id": "J0jKdLW0fh79"
      },
      "source": [
        "# the couroute method (basically a method building function)"
      ]
    },
    {
      "cell_type": "code",
      "metadata": {
        "id": "BU09jGz6fh79",
        "outputId": "42038f52-d5a1-4a49-bf8f-84157e8b9a5f"
      },
      "source": [
        "def sample():\n",
        "    yield 1\n",
        "    yield 2\n",
        "    yield 3\n",
        "for value in sample():\n",
        "    print(value)"
      ],
      "execution_count": null,
      "outputs": [
        {
          "output_type": "stream",
          "text": [
            "1\n",
            "2\n",
            "3\n"
          ],
          "name": "stdout"
        }
      ]
    },
    {
      "cell_type": "code",
      "metadata": {
        "id": "fftD1_Zifh7_",
        "outputId": "5f7d1ab4-fb68-4a68-e865-073e66cb84a0"
      },
      "source": [
        "def print_name(prefix):\n",
        "    print(\"Searching the prefix:{}\".format(prefix))\n",
        "    while True:\n",
        "        name = (yield)\n",
        "        if prefix in name:\n",
        "            print(name)\n",
        "            pass\n",
        "corou = print_name(\"dear\")\n",
        "corou.__next__()\n",
        "corou.send(\"TEchnoids\")\n",
        "corou.send(\"people\")\n",
        "corou.send(\"dear technoids\")\n",
        "corou.close()"
      ],
      "execution_count": null,
      "outputs": [
        {
          "output_type": "stream",
          "text": [
            "Searching the prefix:dear\n",
            "dear technoids\n"
          ],
          "name": "stdout"
        }
      ]
    },
    {
      "cell_type": "code",
      "metadata": {
        "id": "62tvLnyifh8A",
        "outputId": "c8866cb2-3906-4ac4-fffe-c68dbf875f5e"
      },
      "source": [
        "def print_name(prefix):\n",
        "    print(\"Searching the prefix:{}\".format(prefix))\n",
        "    while True:\n",
        "        name = (yield)\n",
        "        if prefix in name:\n",
        "            print(name)\n",
        "            pass\n",
        "corou = print_name(\"dear\")\n",
        "corou.__next__()\n",
        "corou.send(\"TEchnoids\")\n",
        "corou.send(\"people\")\n",
        "#corou.send(\"dear technoids\")\n",
        "corou.close()"
      ],
      "execution_count": null,
      "outputs": [
        {
          "output_type": "stream",
          "text": [
            "Searching the prefix:dear\n"
          ],
          "name": "stdout"
        }
      ]
    },
    {
      "cell_type": "code",
      "metadata": {
        "id": "CdfM-RpJfh8C",
        "outputId": "4b726bb8-5970-473f-ccc9-cf056bd1f90e"
      },
      "source": [
        "def print_name(prefix):\n",
        "    print(\"searching prefix:{}\".format(prefix))\n",
        "    try:\n",
        "        while True:\n",
        "            name = (yield)\n",
        "            if prefix in name:\n",
        "                print(name)\n",
        "    except GeneratorExit:\n",
        "        print(\"closing couroting\")\n",
        "corou = print_name(\"dear\")\n",
        "corou.__next__()\n",
        "corou.send(\"dear guys\")\n"
      ],
      "execution_count": null,
      "outputs": [
        {
          "output_type": "stream",
          "text": [
            "searching prefix:dear\n",
            "dear guyus\n"
          ],
          "name": "stdout"
        }
      ]
    },
    {
      "cell_type": "code",
      "metadata": {
        "id": "3-b0Y4bEfh8D",
        "outputId": "97cc377a-fc17-4d6f-fad2-ad24d0475343"
      },
      "source": [
        "def print_name(prefix):\n",
        "    print(\"the search for the prefix{}\".format(prefix))\n",
        "    try:\n",
        "        while True:\n",
        "            name = (yield)\n",
        "            if prefix in name:\n",
        "                print(name)\n",
        "    except GeneratorExit:\n",
        "        print(\"losing the courouting\")\n",
        "corou = print_name(\"def\")\n",
        "corou.__next__()\n",
        "corou.send(\"making\")\n",
        "corou.send(\"def the tutorial\")"
      ],
      "execution_count": null,
      "outputs": [
        {
          "output_type": "stream",
          "text": [
            "closing couroting\n",
            "the search for the prefixdef\n",
            "def the tutorial\n"
          ],
          "name": "stdout"
        }
      ]
    },
    {
      "cell_type": "code",
      "metadata": {
        "id": "zqvPXsu4fh8F"
      },
      "source": [
        "mutex =True\n",
        "if mutex == True:\n",
        "    pass\n",
        "else:\n",
        "    print(\"False\")"
      ],
      "execution_count": null,
      "outputs": []
    },
    {
      "cell_type": "code",
      "metadata": {
        "id": "OmTadOplfh8G",
        "outputId": "a4bfcf13-ba59-49c0-f7f8-6d73b326e01e"
      },
      "source": [
        "def nextit():\n",
        "    i =1\n",
        "    while True:\n",
        "        yield i*i\n",
        "        i += 1\n",
        "for num in nextit():\n",
        "    if num > 100:\n",
        "        break\n",
        "    print(num)"
      ],
      "execution_count": null,
      "outputs": [
        {
          "output_type": "stream",
          "text": [
            "1\n",
            "4\n",
            "9\n",
            "16\n",
            "25\n",
            "36\n",
            "49\n",
            "64\n",
            "81\n",
            "100\n"
          ],
          "name": "stdout"
        }
      ]
    },
    {
      "cell_type": "code",
      "metadata": {
        "id": "KNF3NTqVfh8I"
      },
      "source": [
        "def numit():\n",
        "    i =1\n",
        "    while True:\n",
        "        yield i*i\n",
        "        i += 1\n",
        "if num in nextit():\n",
        "    if num >200:\n",
        "        print(num)"
      ],
      "execution_count": null,
      "outputs": []
    },
    {
      "cell_type": "code",
      "metadata": {
        "id": "bTCx1ZHofh8I",
        "outputId": "159eb617-ae95-46df-80be-a20e464577e8"
      },
      "source": [
        "def shunt(parameter):\n",
        "    return parameter.upper()\n",
        "print(shunt(\"motor\"))\n",
        "torque = shunt\n",
        "print(torque(\"motor\"))"
      ],
      "execution_count": null,
      "outputs": [
        {
          "output_type": "stream",
          "text": [
            "MOTOR\n",
            "MOTOR\n"
          ],
          "name": "stdout"
        }
      ]
    },
    {
      "cell_type": "markdown",
      "metadata": {
        "id": "MIms6-stfh8K"
      },
      "source": [
        "# the web browser code"
      ]
    },
    {
      "cell_type": "code",
      "metadata": {
        "id": "FkkP6H86fh8K",
        "outputId": "5c0bdccf-fb3e-4a3d-960a-245d56e0d978"
      },
      "source": [
        "import webbrowser\n",
        "webb = webbrowser.open(\"www.google.co.in\")\n",
        "webbb = webbrowser.open_new_tab(\"www.google.com\")\n",
        "webbreg = webbrowser.register(\"www.gogle.co.in\",4,None)\n",
        "webget = webbrowser.get([google-chrome])"
      ],
      "execution_count": null,
      "outputs": [
        {
          "output_type": "error",
          "ename": "NameError",
          "evalue": "name 'google' is not defined",
          "traceback": [
            "\u001b[1;31m---------------------------------------------------------------------------\u001b[0m",
            "\u001b[1;31mNameError\u001b[0m                                 Traceback (most recent call last)",
            "\u001b[1;32m<ipython-input-95-4ce685c7dd4b>\u001b[0m in \u001b[0;36m<module>\u001b[1;34m\u001b[0m\n\u001b[0;32m      3\u001b[0m \u001b[0mwebbb\u001b[0m \u001b[1;33m=\u001b[0m \u001b[0mwebbrowser\u001b[0m\u001b[1;33m.\u001b[0m\u001b[0mopen_new_tab\u001b[0m\u001b[1;33m(\u001b[0m\u001b[1;34m\"www.google.com\"\u001b[0m\u001b[1;33m)\u001b[0m\u001b[1;33m\u001b[0m\u001b[1;33m\u001b[0m\u001b[0m\n\u001b[0;32m      4\u001b[0m \u001b[0mwebbreg\u001b[0m \u001b[1;33m=\u001b[0m \u001b[0mwebbrowser\u001b[0m\u001b[1;33m.\u001b[0m\u001b[0mregister\u001b[0m\u001b[1;33m(\u001b[0m\u001b[1;34m\"www.gogle.co.in\"\u001b[0m\u001b[1;33m,\u001b[0m\u001b[1;36m4\u001b[0m\u001b[1;33m,\u001b[0m\u001b[1;32mNone\u001b[0m\u001b[1;33m)\u001b[0m\u001b[1;33m\u001b[0m\u001b[1;33m\u001b[0m\u001b[0m\n\u001b[1;32m----> 5\u001b[1;33m \u001b[0mwebget\u001b[0m \u001b[1;33m=\u001b[0m \u001b[0mwebbrowser\u001b[0m\u001b[1;33m.\u001b[0m\u001b[0mget\u001b[0m\u001b[1;33m(\u001b[0m\u001b[1;33m[\u001b[0m\u001b[0mgoogle\u001b[0m\u001b[1;33m-\u001b[0m\u001b[0mchrome\u001b[0m\u001b[1;33m]\u001b[0m\u001b[1;33m)\u001b[0m\u001b[1;33m\u001b[0m\u001b[1;33m\u001b[0m\u001b[0m\n\u001b[0m",
            "\u001b[1;31mNameError\u001b[0m: name 'google' is not defined"
          ]
        }
      ]
    },
    {
      "cell_type": "code",
      "metadata": {
        "id": "lIqjRUy0fh8L",
        "outputId": "f50be425-5589-429f-e8c8-a023eb778243"
      },
      "source": [
        "import webbrowser\n",
        "webb1 = webbrowser.conroller.open(\"www.google.co.in\",new = 0 ,autoraise = True)"
      ],
      "execution_count": null,
      "outputs": [
        {
          "output_type": "error",
          "ename": "AttributeError",
          "evalue": "module 'webbrowser' has no attribute 'conroller'",
          "traceback": [
            "\u001b[1;31m---------------------------------------------------------------------------\u001b[0m",
            "\u001b[1;31mAttributeError\u001b[0m                            Traceback (most recent call last)",
            "\u001b[1;32m<ipython-input-90-c5922b57fe7c>\u001b[0m in \u001b[0;36m<module>\u001b[1;34m\u001b[0m\n\u001b[0;32m      1\u001b[0m \u001b[1;32mimport\u001b[0m \u001b[0mwebbrowser\u001b[0m\u001b[1;33m\u001b[0m\u001b[1;33m\u001b[0m\u001b[0m\n\u001b[1;32m----> 2\u001b[1;33m \u001b[0mwebb1\u001b[0m \u001b[1;33m=\u001b[0m \u001b[0mwebbrowser\u001b[0m\u001b[1;33m.\u001b[0m\u001b[0mconroller\u001b[0m\u001b[1;33m.\u001b[0m\u001b[0mopen\u001b[0m\u001b[1;33m(\u001b[0m\u001b[1;34m\"www.google.co.in\"\u001b[0m\u001b[1;33m,\u001b[0m\u001b[0mnew\u001b[0m \u001b[1;33m=\u001b[0m \u001b[1;36m0\u001b[0m \u001b[1;33m,\u001b[0m\u001b[0mautoraise\u001b[0m \u001b[1;33m=\u001b[0m \u001b[1;32mTrue\u001b[0m\u001b[1;33m)\u001b[0m\u001b[1;33m\u001b[0m\u001b[1;33m\u001b[0m\u001b[0m\n\u001b[0m",
            "\u001b[1;31mAttributeError\u001b[0m: module 'webbrowser' has no attribute 'conroller'"
          ]
        }
      ]
    },
    {
      "cell_type": "markdown",
      "metadata": {
        "id": "NLnZNfGTfh8M"
      },
      "source": [
        "# the kwargs and the args statements"
      ]
    },
    {
      "cell_type": "code",
      "metadata": {
        "id": "eLXTowuZfh8N",
        "outputId": "38c4f0a1-76b7-46d2-9729-8cb04c00ad77"
      },
      "source": [
        "def myfunc(*argv):\n",
        "    for arg in argv:\n",
        "        print(arg)\n",
        "myfunc(\"hello\",\"welcome\",\"to\",\"technoids\")"
      ],
      "execution_count": null,
      "outputs": [
        {
          "output_type": "stream",
          "text": [
            "hello\n",
            "welcome\n",
            "to\n",
            "technoids\n"
          ],
          "name": "stdout"
        }
      ]
    },
    {
      "cell_type": "code",
      "metadata": {
        "id": "5yqupn3cfh8O",
        "outputId": "5e92c634-af94-4135-b3fe-bd316502d12e"
      },
      "source": [
        "def myfunc(arg1,*argv):\n",
        "    print(\"First argument :\",arg1)\n",
        "    for arg in argv:\n",
        "        print(\"next argument through *argv :\",arg)\n",
        "myfunc(\"hello\" ,\"welcome\",\"to\",\"technoids\")"
      ],
      "execution_count": null,
      "outputs": [
        {
          "output_type": "stream",
          "text": [
            "First argument : hello\n",
            "next argument through *argv : welcome\n",
            "next argument through *argv : to\n",
            "next argument through *argv : technoids\n"
          ],
          "name": "stdout"
        }
      ]
    },
    {
      "cell_type": "markdown",
      "metadata": {
        "id": "13-N1u5sfh8O"
      },
      "source": [
        "# The kwargs functionality is being defined here"
      ]
    },
    {
      "cell_type": "code",
      "metadata": {
        "id": "c29hlY8Afh8P",
        "outputId": "bc9c2fd8-ed26-4f9a-a4c4-cb29202a1bde"
      },
      "source": [
        "def func(**kwargs):\n",
        "    for key,value in kwargs.items():\n",
        "        print(\"%s  == %s\" %(key,value))\n",
        "func(first = \"ieee\" ,second = \"robotics \" , last = \"python\")"
      ],
      "execution_count": null,
      "outputs": [
        {
          "output_type": "stream",
          "text": [
            "first  == ieee\n",
            "second  == robotics \n",
            "last  == python\n"
          ],
          "name": "stdout"
        }
      ]
    },
    {
      "cell_type": "code",
      "metadata": {
        "id": "0CXEsZ1xfh8T",
        "outputId": "89cc62f3-d4a5-4c1d-bfbe-c1a56c0e279a"
      },
      "source": [
        "def func(**kwargs):\n",
        "    for key,value in kwargs.items():\n",
        "        print(\"%s  == %s\" %(key,value))\n",
        "func(first = \"ieee\" ,second = \"robotics \" , third = \"python\" , last = \"c++\")"
      ],
      "execution_count": null,
      "outputs": [
        {
          "output_type": "stream",
          "text": [
            "first  == ieee\n",
            "second  == robotics \n",
            "third  == python\n",
            "last  == c++\n"
          ],
          "name": "stdout"
        }
      ]
    },
    {
      "cell_type": "code",
      "metadata": {
        "id": "MUld4ZT5fh8U",
        "outputId": "9803ff29-62c4-46c9-96c9-8b61b9819cb5"
      },
      "source": [
        "def func(**kwargs):\n",
        "    for key,value in kwargs.items():\n",
        "        print(\"%s  == %s\" %(key,value))\n",
        "func(\"hi\",first = \"ieee\" ,second = \"robotics \" , third = \"python\" , last = \"c++\")"
      ],
      "execution_count": null,
      "outputs": [
        {
          "output_type": "error",
          "ename": "TypeError",
          "evalue": "func() takes 0 positional arguments but 1 was given",
          "traceback": [
            "\u001b[1;31m---------------------------------------------------------------------------\u001b[0m",
            "\u001b[1;31mTypeError\u001b[0m                                 Traceback (most recent call last)",
            "\u001b[1;32m<ipython-input-108-5db96c2886a4>\u001b[0m in \u001b[0;36m<module>\u001b[1;34m\u001b[0m\n\u001b[0;32m      2\u001b[0m     \u001b[1;32mfor\u001b[0m \u001b[0mkey\u001b[0m\u001b[1;33m,\u001b[0m\u001b[0mvalue\u001b[0m \u001b[1;32min\u001b[0m \u001b[0mkwargs\u001b[0m\u001b[1;33m.\u001b[0m\u001b[0mitems\u001b[0m\u001b[1;33m(\u001b[0m\u001b[1;33m)\u001b[0m\u001b[1;33m:\u001b[0m\u001b[1;33m\u001b[0m\u001b[1;33m\u001b[0m\u001b[0m\n\u001b[0;32m      3\u001b[0m         \u001b[0mprint\u001b[0m\u001b[1;33m(\u001b[0m\u001b[1;34m\"%s  == %s\"\u001b[0m \u001b[1;33m%\u001b[0m\u001b[1;33m(\u001b[0m\u001b[0mkey\u001b[0m\u001b[1;33m,\u001b[0m\u001b[0mvalue\u001b[0m\u001b[1;33m)\u001b[0m\u001b[1;33m)\u001b[0m\u001b[1;33m\u001b[0m\u001b[1;33m\u001b[0m\u001b[0m\n\u001b[1;32m----> 4\u001b[1;33m \u001b[0mfunc\u001b[0m\u001b[1;33m(\u001b[0m\u001b[1;34m\"hi\"\u001b[0m\u001b[1;33m,\u001b[0m\u001b[0mfirst\u001b[0m \u001b[1;33m=\u001b[0m \u001b[1;34m\"ieee\"\u001b[0m \u001b[1;33m,\u001b[0m\u001b[0msecond\u001b[0m \u001b[1;33m=\u001b[0m \u001b[1;34m\"robotics \"\u001b[0m \u001b[1;33m,\u001b[0m \u001b[0mthird\u001b[0m \u001b[1;33m=\u001b[0m \u001b[1;34m\"python\"\u001b[0m \u001b[1;33m,\u001b[0m \u001b[0mlast\u001b[0m \u001b[1;33m=\u001b[0m \u001b[1;34m\"c++\"\u001b[0m\u001b[1;33m)\u001b[0m\u001b[1;33m\u001b[0m\u001b[1;33m\u001b[0m\u001b[0m\n\u001b[0m",
            "\u001b[1;31mTypeError\u001b[0m: func() takes 0 positional arguments but 1 was given"
          ]
        }
      ]
    },
    {
      "cell_type": "code",
      "metadata": {
        "id": "8Vk-1z0Tfh8W",
        "outputId": "ca13a09f-0038-4ffa-a976-6bbe998f5d03"
      },
      "source": [
        "def myFun(arg1, arg2, arg3): \n",
        "    print(\"arg1:\", arg1) \n",
        "    print(\"arg2:\", arg2) \n",
        "    print(\"arg3:\", arg3) \n",
        "      \n",
        "# Now we can use *args or **kwargs to \n",
        "# pass arguments to this function :  \n",
        "args = (\"thugs\", \"of\", \"hindustan\") \n",
        "myFun(*args) \n",
        "  \n",
        "kwargs = {\"arg1\" : \"amir\", \"arg2\" : \"karina\", \"arg3\" : \"fathima\"} \n",
        "myFun(**kwargs) "
      ],
      "execution_count": null,
      "outputs": [
        {
          "output_type": "stream",
          "text": [
            "arg1: thugs\n",
            "arg2: of\n",
            "arg3: hindustan\n",
            "arg1: amir\n",
            "arg2: karina\n",
            "arg3: fathima\n"
          ],
          "name": "stdout"
        }
      ]
    },
    {
      "cell_type": "code",
      "metadata": {
        "id": "M52TtENyfh8W",
        "outputId": "071e9ad1-2fa4-4b7f-dbb0-7b3ce0336daf"
      },
      "source": [
        "def myFun(arg1, arg2, arg3): \n",
        "    print(\"arg1:\", arg1) \n",
        "    print(\"arg2:\", arg2) \n",
        "    print(\"arg3:\", arg3) \n",
        "      \n",
        "# Now we can use *args or **kwargs to \n",
        "# pass arguments to this function :  \n",
        "args = (\"thugs\", \"of\", \"hindustan\") \n",
        "myFun(*args) \n",
        "  \n",
        "kwargs = {\"actor1\" : \"amir\", \"actor2\" : \"karina\", \"actro3\" : \"fathima\"} \n",
        "myFun(**kwargs) "
      ],
      "execution_count": null,
      "outputs": [
        {
          "output_type": "stream",
          "text": [
            "arg1: thugs\n",
            "arg2: of\n",
            "arg3: hindustan\n"
          ],
          "name": "stdout"
        },
        {
          "output_type": "error",
          "ename": "TypeError",
          "evalue": "myFun() got an unexpected keyword argument 'actor1'",
          "traceback": [
            "\u001b[1;31m---------------------------------------------------------------------------\u001b[0m",
            "\u001b[1;31mTypeError\u001b[0m                                 Traceback (most recent call last)",
            "\u001b[1;32m<ipython-input-112-a81f80e22a5d>\u001b[0m in \u001b[0;36m<module>\u001b[1;34m\u001b[0m\n\u001b[0;32m     10\u001b[0m \u001b[1;33m\u001b[0m\u001b[0m\n\u001b[0;32m     11\u001b[0m \u001b[0mkwargs\u001b[0m \u001b[1;33m=\u001b[0m \u001b[1;33m{\u001b[0m\u001b[1;34m\"actor1\"\u001b[0m \u001b[1;33m:\u001b[0m \u001b[1;34m\"amir\"\u001b[0m\u001b[1;33m,\u001b[0m \u001b[1;34m\"actor2\"\u001b[0m \u001b[1;33m:\u001b[0m \u001b[1;34m\"karina\"\u001b[0m\u001b[1;33m,\u001b[0m \u001b[1;34m\"actro3\"\u001b[0m \u001b[1;33m:\u001b[0m \u001b[1;34m\"fathima\"\u001b[0m\u001b[1;33m}\u001b[0m\u001b[1;33m\u001b[0m\u001b[1;33m\u001b[0m\u001b[0m\n\u001b[1;32m---> 12\u001b[1;33m \u001b[0mmyFun\u001b[0m\u001b[1;33m(\u001b[0m\u001b[1;33m**\u001b[0m\u001b[0mkwargs\u001b[0m\u001b[1;33m)\u001b[0m\u001b[1;33m\u001b[0m\u001b[1;33m\u001b[0m\u001b[0m\n\u001b[0m",
            "\u001b[1;31mTypeError\u001b[0m: myFun() got an unexpected keyword argument 'actor1'"
          ]
        }
      ]
    },
    {
      "cell_type": "code",
      "metadata": {
        "id": "waHv2hLkfh8Y",
        "outputId": "f0e4f8c8-6f6d-428f-db88-c9b596198d37"
      },
      "source": [
        "def outerfunc(text):\n",
        "    text = text\n",
        "    def innerfunc():\n",
        "        print(text)\n",
        "    innerfunc()\n",
        "if __name__ == '__main__':\n",
        "    outerfunc(\"HEY!\")"
      ],
      "execution_count": null,
      "outputs": [
        {
          "output_type": "stream",
          "text": [
            "HEY!\n"
          ],
          "name": "stdout"
        }
      ]
    },
    {
      "cell_type": "code",
      "metadata": {
        "id": "wy_F8FXZfh8Z",
        "outputId": "d6202ee5-d9e3-49b6-82d9-e9859d2922ba"
      },
      "source": [
        "def outerFunction(text): \n",
        "    text = text \n",
        "  \n",
        "    def innerFunction(): \n",
        "        print(text) \n",
        "  \n",
        "    return innerFunction \n",
        "  \n",
        "if __name__ == '__main__': \n",
        "    myFunction = outerFunction('Hey!') \n",
        "    myFunction() "
      ],
      "execution_count": null,
      "outputs": [
        {
          "output_type": "stream",
          "text": [
            "Hey!\n"
          ],
          "name": "stdout"
        }
      ]
    },
    {
      "cell_type": "code",
      "metadata": {
        "id": "i-qwfYlCfh8a",
        "outputId": "8f8d02f0-5a7b-4955-8205-a0992e96b953"
      },
      "source": [
        "import logging \n",
        "logging.basicConfig(filename='example.log', level=logging.INFO) \n",
        "  \n",
        "  \n",
        "def logger(func): \n",
        "    def log_func(*args): \n",
        "        logging.info( \n",
        "            'Running \"{}\" with arguments {}'.format(func.__name__, args)) #the raw data information provided\n",
        "        \n",
        "        print(func(*args)) \n",
        "    \n",
        "    return log_func               \n",
        "  \n",
        "def add(x, y): \n",
        "    return x+y \n",
        "  \n",
        "def sub(x, y): \n",
        "    return x-y \n",
        "  \n",
        "add_logger = logger(add) \n",
        "sub_logger = logger(sub) \n",
        "  \n",
        "add_logger(3, 3) \n",
        "add_logger(4, 5) \n",
        "  \n",
        "sub_logger(10, 5) \n",
        "sub_logger(20, 10) "
      ],
      "execution_count": null,
      "outputs": [
        {
          "output_type": "stream",
          "text": [
            "6\n",
            "9\n",
            "5\n",
            "10\n"
          ],
          "name": "stdout"
        }
      ]
    },
    {
      "cell_type": "markdown",
      "metadata": {
        "id": "qjCcsBYyfh8c"
      },
      "source": [
        "# the imports of the functions when in teh middle of the program control"
      ]
    },
    {
      "cell_type": "code",
      "metadata": {
        "id": "YOwvarvAfh8c",
        "outputId": "fa898e46-ef41-4a79-dca7-8213202654da"
      },
      "source": [
        "np = __import__(\"numpy\",globals(),locals(),[],0)\n",
        "a = np.array([1,2,3])\n",
        "print(a)\n",
        "print(type(a))"
      ],
      "execution_count": null,
      "outputs": [
        {
          "output_type": "stream",
          "text": [
            "[1 2 3]\n",
            "<class 'numpy.ndarray'>\n"
          ],
          "name": "stdout"
        }
      ]
    },
    {
      "cell_type": "code",
      "metadata": {
        "id": "kln45o7Gfh8d"
      },
      "source": [
        ""
      ],
      "execution_count": null,
      "outputs": []
    }
  ]
}